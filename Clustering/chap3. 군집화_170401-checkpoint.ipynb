{
 "cells": [
  {
   "cell_type": "markdown",
   "metadata": {},
   "source": [
    "# 군집화 : 관련된 게시물 찾기"
   ]
  },
  {
   "cell_type": "markdown",
   "metadata": {},
   "source": [
    "============================================================================================================="
   ]
  },
  {
   "cell_type": "markdown",
   "metadata": {
    "collapsed": true,
    "nbpresent": {
     "id": "5ef50158-a652-43a0-aba3-5369e25980d1"
    }
   },
   "source": [
    "__<텍스트 마이닝(문서전처리) 참고>__\n",
    "\n",
    "https://www.datascienceschool.net/view-notebook/3e7aadbf88ed4f0d87a76f9ddc925d69/"
   ]
  },
  {
   "cell_type": "markdown",
   "metadata": {},
   "source": [
    "============================================================================================================="
   ]
  },
  {
   "cell_type": "markdown",
   "metadata": {},
   "source": [
    " __< ##3장의 목표 >__\n",
    "\n",
    "\"질문/답변 사이트의 검색엔진에서 키워드와 관련된 게시물을 찾는 것\"\n",
    "\n",
    "=> 원시 텍스트를 의미 있는 수치로 변환해 군집화 학습 알고리즘에 적용하자.\n",
    "\n",
    ">질문/답변 사이트의 텍스트 게시물을 매트릭스 형태로 수치화 => __텍스트마이닝__\n",
    "\n",
    ">수치로 변환된 게시물을 이용하여 키워드와 유사한 게시물 찾기 => __군집화__"
   ]
  },
  {
   "cell_type": "markdown",
   "metadata": {},
   "source": [
    "![비정형 데이터인 텍스트 문서를 정형 데이터인 매트릭스로 변환](https://image.slidesharecdn.com/random-130523090218-phpapp02/95/-15-1024.jpg?cb=1372830288)"
   ]
  },
  {
   "cell_type": "markdown",
   "metadata": {},
   "source": [
    "![군집화](http://ecminerword.way21.kr/wp-content/uploads/2015/03/%EA%B5%B0%EC%A7%91%ED%99%94.png)"
   ]
  },
  {
   "cell_type": "markdown",
   "metadata": {},
   "source": [
    "# 목차\n",
    "1. [게시물 관련도 측정](#1.게시물-관련도-측정)\n",
    "    * 하지 말아야 하는 방법\n",
    "    * 어떻게 해야하는가\n",
    "2. [전처리: 공통 단어의 유사한 개수로서 측정된 유사도](#2.전처리:공통-단어의-유사한-개수로서-측정된-유사도)\n",
    "    * 원시 텍스트를 단어 주머니로 변환\n",
    "        * 단어 세기\n",
    "        * 단어 카운트 벡터 정규화하기\n",
    "        * 덜 중요한 단어의 삭제\n",
    "        * 어근 추출\n",
    "        * 강화된 불용어\n",
    "    * 우리의 성취와 목표\n",
    "3. [군집화](#3.군집화)\n",
    "    * K평균\n",
    "    * 우리의 발상을 평가하기 위한 테스트 데이터 얻기\n",
    "    * 게시물 군집화\n",
    "4. [초기 도전과제 해결](#4.초기-도전과제-해결)\n",
    "    * 노이즈의 또 다른 시각\n",
    "5. [매개변수 변경](#5.매개변수-변경)\n",
    "6. [정리](#6.정리)"
   ]
  },
  {
   "cell_type": "markdown",
   "metadata": {},
   "source": [
    "============================================================================================================="
   ]
  },
  {
   "cell_type": "markdown",
   "metadata": {},
   "source": [
    "## 1.게시물-관련도-측정"
   ]
  },
  {
   "cell_type": "markdown",
   "metadata": {},
   "source": [
    "1]. [하지 말아야 하는 방법](#1]하지-말아야-하는-방법)\n",
    "\n",
    "2]. [어떻게 해야하는가](#2]어떻게-해야-하는가)"
   ]
  },
  {
   "cell_type": "markdown",
   "metadata": {},
   "source": [
    "## 1]하지-말아야-하는-방법"
   ]
  },
  {
   "cell_type": "markdown",
   "metadata": {},
   "source": [
    "__텍스트 유사도 측정 중 하나로 '편집거리인 레벤시타인 거리'가 있다.__\n",
    "\n",
    "__'레벤시타인 거리'는 한 텍스트를 다른 텍스트로 변환하기 위해, 추가하거나 삭제한 단어 수를 편집거리로 사용한다__\n",
    "<1. 두 단어의 유사도_알파벳(한 단어에서 다른 단어로 변경할 때 필요한 최소 편집 수)\n",
    "\n",
    "    EX> machine, mchiene\n",
    "    \n",
    "    mchiene를 machine로 만들자\n",
    "    \n",
    "    mchiene에서 (1)m뒤에 a를 넣고, (2)i뒤에 e를 뺀다.\n",
    "\n",
    "    =>편집거리 2\n",
    "\n",
    "\n",
    "<2. 두 문장 사이의 유사도_단어(한 문자에서 다른 문장으로 변경할 때 필요한 최소 편집 수)\n",
    "    \n",
    "    EX> How to format my hard disk, Hard disk format problems\n",
    "    \n",
    "    How to format my hard disk를 Hard disk format problems으로 만들자\n",
    "    \n",
    "    How to format my hard disk에서 (1,2,3)How, to, format my를 삭제, (4,5)끝에다 format, problems를 삽입\n",
    "    \n",
    "    =>편집거리 5"
   ]
  },
  {
   "cell_type": "markdown",
   "metadata": {},
   "source": [
    "__<레벤시타인 거리 : 편집거리>의 문제점__\n",
    "\n",
    "전체적인 접근법에서 다소 속도를 높일 수는 있겠지만 시간 복잡성은 여전히 같다. 충분히 속도가 빠르다고 가정하더라도, 또 다른 문제가 있다.\n",
    "\n",
    "ex> 위 게시물의 '<2'의 예제에서 format은 편집거리가 2이다.(삭제, 추가)\n",
    "\n",
    "=> 단어의 재배치를 생각하지 못하기 때문에 견고하지 못하다."
   ]
  },
  {
   "cell_type": "markdown",
   "metadata": {},
   "source": [
    "## 2]어떻게-해야-하는가"
   ]
  },
  {
   "cell_type": "markdown",
   "metadata": {},
   "source": [
    "편집 거리보다 좀 더 강건한 방법이 __단어 주머니(bay-of-words)__접근법이다.\n",
    "\n",
    "__단어 주머니 접근법__은 단어의 순서를 무시하고 단순히 단어의 빈도를 사용한다."
   ]
  },
  {
   "cell_type": "markdown",
   "metadata": {},
   "source": [
    "각 문장의 단어빈도를 나타내는 벡터를 만들고, 두 문장 사이의 유클리드 거리를 계산한다."
   ]
  },
  {
   "cell_type": "markdown",
   "metadata": {},
   "source": [
    "__<질문/답변 사이트의 검색엔진에서 키워드와 관련된 게시물을 찾는 과정>__\n",
    "1. 각 게시물에서 핵심 속성을 추출하고 벡터로 속성을 저장한다.\n",
    "2. 벡터에 대해 군집화를 계산한다.\n",
    "3. 질문 게시물에 대해 군집을 결정한다.\n",
    "4. 이 군집에서 질문 게시물과 유사한 게시물을 뽑아낸다. 이는 다양성을 증가시킨다.\n",
    "\n",
    "=>1번 작업을 '2.전처리'에서 해보자"
   ]
  },
  {
   "cell_type": "markdown",
   "metadata": {},
   "source": [
    "============================================================================================================="
   ]
  },
  {
   "cell_type": "markdown",
   "metadata": {},
   "source": [
    "## 2.전처리:공통-단어의-유사한-개수로서-측정된-유사도"
   ]
  },
  {
   "cell_type": "markdown",
   "metadata": {},
   "source": [
    "1] [원시 텍스트를 단어 주머니로 변환](#1]원시-텍스트를-단어-주머니로-변환)\n",
    "\n",
    "2] [우리의 성취와 목표](#2]우리의-성취와-목표)"
   ]
  },
  {
   "cell_type": "markdown",
   "metadata": {},
   "source": [
    "## 1]원시 텍스트를 단어 주머니로 변환"
   ]
  },
  {
   "cell_type": "code",
   "execution_count": 91,
   "metadata": {
    "nbpresent": {
     "id": "7c84ccf3-1fa9-46ed-87fc-21fd1d5539a2"
    }
   },
   "outputs": [],
   "source": [
    "#%matplotlib inline\n",
    "\n",
    "from sklearn.feature_extraction.text import CountVectorizer\n",
    "#단어를 세고 벡터로 나타내기 위해 독자적인 코드를 작성할 필요 없이\n",
    "#scikit-learn의 CountVectorizer는 이와 가은 작업을 매우 효율적으로 해주며, 편리한 인터페이스도 제공한다.\n",
    "\n",
    "vectorizer=CountVectorizer(min_df=1)\n",
    "#매개변수 min_df는 CountVectorizer가 빈도수 낮은 단어를 처리하기 위한 값이다.\n",
    "#정수로 설정한다면, 설정된 값보다 작은 빈도수의 단어는 사용되지 않는다.\n",
    "#백분율일 경우,전체 데이터셋의 백분율보다 작은 단어는 사용되지 않는다.\n",
    "#max_df는 단어장에 포함되기 위한 최대 빈도를 뜻한다."
   ]
  },
  {
   "cell_type": "code",
   "execution_count": 92,
   "metadata": {
    "nbpresent": {
     "id": "934bc340-0853-4ec0-9b11-371beea53351"
    }
   },
   "outputs": [
    {
     "name": "stdout",
     "output_type": "stream",
     "text": [
      "CountVectorizer(analyzer='word', binary=False, decode_error='strict',\n",
      "        dtype=<class 'numpy.int64'>, encoding='utf-8', input='content',\n",
      "        lowercase=True, max_df=1.0, max_features=None, min_df=1,\n",
      "        ngram_range=(1, 1), preprocessor=None, stop_words=None,\n",
      "        strip_accents=None, token_pattern='(?u)\\\\b\\\\w\\\\w+\\\\b',\n",
      "        tokenizer=None, vocabulary=None)\n"
     ]
    }
   ],
   "source": [
    "print(vectorizer)\n",
    "#인스턴스를 출력하면 scikit-learn에서 제공하는 그 밖의 매개변수도 기본 값으로 출력된다.\n",
    "#단어수준(analyzer)에서 단어를 세었고, 정규표현식(token_pattern)으로 단어를 추출했다."
   ]
  },
  {
   "cell_type": "code",
   "execution_count": 100,
   "metadata": {
    "nbpresent": {
     "id": "8ff0a8c9-71be-4778-aac6-afdf3f13c785"
    },
    "scrolled": true
   },
   "outputs": [
    {
     "name": "stdout",
     "output_type": "stream",
     "text": [
      "<class 'scipy.sparse.csr.csr_matrix'> \n",
      "\n",
      "  (0, 3)\t1\n",
      "  (0, 6)\t1\n",
      "  (0, 1)\t1\n",
      "  (0, 4)\t1\n",
      "  (0, 2)\t1\n",
      "  (0, 0)\t1\n",
      "  (1, 1)\t1\n",
      "  (1, 2)\t1\n",
      "  (1, 0)\t1\n",
      "  (1, 5)\t1\n"
     ]
    }
   ],
   "source": [
    "content=[\"How to format my hard disk\",\"Hard disk format problems\"]\n",
    "#속성 값을 변경해준 vectorizer를 content에 적용해보자.\n",
    "X = vectorizer.fit_transform(content)\n",
    "#vectorizer의 fit_transform()함수는 리스트를 벡터화 시켜준다.\n",
    "print(type(X),\"\\n\")\n",
    "#X는 특정한 패키지의 matrix로 저장되어 있다.\n",
    "print(X)\n",
    "#7개의 단어를 찾았고, 각 단어의 빈도도 구했다."
   ]
  },
  {
   "cell_type": "code",
   "execution_count": 94,
   "metadata": {
    "nbpresent": {
     "id": "52a6ca72-5552-4c1f-9b09-9411c3857631"
    }
   },
   "outputs": [
    {
     "data": {
      "text/plain": [
       "['disk', 'format', 'hard', 'how', 'my', 'problems', 'to']"
      ]
     },
     "execution_count": 94,
     "metadata": {},
     "output_type": "execute_result"
    }
   ],
   "source": [
    "vectorizer.get_feature_names()\n",
    "#X에 저장된 단어들(열)이름을 출력해보았다."
   ]
  },
  {
   "cell_type": "code",
   "execution_count": 95,
   "metadata": {
    "nbpresent": {
     "id": "e9cbb876-2cef-41be-ba0a-e2f5fd35c31d"
    }
   },
   "outputs": [
    {
     "name": "stdout",
     "output_type": "stream",
     "text": [
      "[[1 1 1 1 1 0 1]\n",
      " [1 1 1 0 0 1 0]]\n"
     ]
    }
   ],
   "source": [
    "print(X.toarray())"
   ]
  },
  {
   "cell_type": "code",
   "execution_count": 96,
   "metadata": {
    "nbpresent": {
     "id": "ad27542a-5600-4d7b-a01d-c2729fe7dff4"
    }
   },
   "outputs": [
    {
     "name": "stdout",
     "output_type": "stream",
     "text": [
      "[[1 1]\n",
      " [1 1]\n",
      " [1 1]\n",
      " [1 0]\n",
      " [1 0]\n",
      " [0 1]\n",
      " [1 0]]\n"
     ]
    }
   ],
   "source": [
    "print(X.toarray().transpose())"
   ]
  },
  {
   "cell_type": "markdown",
   "metadata": {},
   "source": [
    "먼저 설명해야 할 전처리 특성을 살펴보기 위해 단순한 접근법부터 시작해보자.\n",
    "\n",
    "임의의 게시물을 뽑아 카운트 벡터로 만들고, 모든 카운트 벡터와 비교한 후 가장 작은 거리 값을 가진 게시물을 찾아보자."
   ]
  },
  {
   "cell_type": "markdown",
   "metadata": {},
   "source": [
    "1]] [단어세기](#1]]단어세기) : dist_raw\n",
    "    \n",
    "2]] [단어 카운트 벡터 정규화하기](#2]]단어-카운트-벡터-정규화하기) : dist_norm\n",
    "    \n",
    "3]] [덜 중요한 단어의 삭제](#3]]덜-중요한-단어의-삭제) : 불용어처리\n",
    "    \n",
    "4]] [어근 추출](#4]]어근-추출) : 단어 -> 어근\n",
    "    \n",
    "5]] [강화된 불용어](#5]]강화된-불용어) : TF-IDF"
   ]
  },
  {
   "cell_type": "markdown",
   "metadata": {
    "collapsed": true
   },
   "source": [
    "## 1]]단어세기"
   ]
  },
  {
   "cell_type": "markdown",
   "metadata": {},
   "source": [
    "하고 싶은 것 : 게시물 데이터셋에서 'imaging databases'라는 게시물과 가장 유사한 게시물을 찾고 싶다."
   ]
  },
  {
   "cell_type": "code",
   "execution_count": 62,
   "metadata": {
    "nbpresent": {
     "id": "d32db0b4-ccf7-4901-a39b-2920d5802488"
    }
   },
   "outputs": [
    {
     "data": {
      "text/plain": [
       "'c:\\\\tmp\\\\BuildingMachineLearningSystemsWithPython-master\\\\ch03\\\\data\\\\toy'"
      ]
     },
     "execution_count": 62,
     "metadata": {},
     "output_type": "execute_result"
    }
   ],
   "source": [
    "import os\n",
    "import sys\n",
    "\n",
    "import scipy as sp\n",
    "\n",
    "#from sklearn.feature_extraction.text import CountVectorizer\n",
    "\n",
    "DATA_DIR=\"c:\\\\tmp\\BuildingMachineLearningSystemsWithPython-master\\ch03\\data\"\n",
    "#게시물이 저장된 주소를 DATA_DIR에 넣어준다.\n",
    "\n",
    "TOY_DIR = os.path.join(DATA_DIR, \"toy\")\n",
    "TOY_DIR"
   ]
  },
  {
   "cell_type": "code",
   "execution_count": 63,
   "metadata": {
    "nbpresent": {
     "id": "b30afa6f-285e-4f6b-888f-1e8d1d4ba5d1"
    }
   },
   "outputs": [
    {
     "data": {
      "text/plain": [
       "['01.txt', '02.txt', '03.txt', '04.txt', '05.txt']"
      ]
     },
     "execution_count": 63,
     "metadata": {},
     "output_type": "execute_result"
    }
   ],
   "source": [
    "os.listdir(TOY_DIR)"
   ]
  },
  {
   "cell_type": "code",
   "execution_count": 64,
   "metadata": {
    "nbpresent": {
     "id": "54b676b6-3375-45b9-af3c-6bdfed724639"
    }
   },
   "outputs": [
    {
     "data": {
      "text/plain": [
       "['This is a toy post about machine learning. Actually, it contains not much interesting stuff.',\n",
       " 'Imaging databases provide storage capabilities.',\n",
       " 'Most imaging databases save images permanently.\\n',\n",
       " 'Imaging databases store data.',\n",
       " 'Imaging databases store data. Imaging databases store data. Imaging databases store data.']"
      ]
     },
     "execution_count": 64,
     "metadata": {},
     "output_type": "execute_result"
    }
   ],
   "source": [
    "posts = [open(os.path.join(TOY_DIR, f)).read() for f in os.listdir(TOY_DIR)]\n",
    "posts\n",
    "#01.txt~05.txt까지 list로 저장"
   ]
  },
  {
   "cell_type": "code",
   "execution_count": 65,
   "metadata": {
    "nbpresent": {
     "id": "2c3fd9d0-a25c-4f00-88c3-f3fea933388c"
    }
   },
   "outputs": [
    {
     "name": "stdout",
     "output_type": "stream",
     "text": [
      "\n",
      "<post_vec>\n",
      "   (0, 23)\t1\n",
      "  (0, 9)\t1\n",
      "  (0, 24)\t1\n",
      "  (0, 17)\t1\n",
      "  (0, 0)\t1\n",
      "  (0, 12)\t1\n",
      "  (0, 11)\t1\n",
      "  (0, 1)\t1\n",
      "  (0, 10)\t1\n",
      "  (0, 3)\t1\n",
      "  (0, 15)\t1\n",
      "  (0, 14)\t1\n",
      "  (0, 8)\t1\n",
      "  (0, 22)\t1\n",
      "  (1, 7)\t1\n",
      "  (1, 5)\t1\n",
      "  (1, 18)\t1\n",
      "  (1, 20)\t1\n",
      "  (1, 2)\t1\n",
      "  (2, 7)\t1\n",
      "  (2, 5)\t1\n",
      "  (2, 13)\t1\n",
      "  (2, 19)\t1\n",
      "  (2, 6)\t1\n",
      "  (2, 16)\t1\n",
      "  (3, 7)\t1\n",
      "  (3, 5)\t1\n",
      "  (3, 21)\t1\n",
      "  (3, 4)\t1\n",
      "  (4, 7)\t3\n",
      "  (4, 5)\t3\n",
      "  (4, 21)\t3\n",
      "  (4, 4)\t3\n",
      "\n",
      "<post_vec array form>\n",
      " [[1 1 0 1 0 0 0 0 1 1 1 1 1 0 1 1 0 1 0 0 0 0 1 1 1]\n",
      " [0 0 1 0 0 1 0 1 0 0 0 0 0 0 0 0 0 0 1 0 1 0 0 0 0]\n",
      " [0 0 0 0 0 1 1 1 0 0 0 0 0 1 0 0 1 0 0 1 0 0 0 0 0]\n",
      " [0 0 0 0 1 1 0 1 0 0 0 0 0 0 0 0 0 0 0 0 0 1 0 0 0]\n",
      " [0 0 0 0 3 3 0 3 0 0 0 0 0 0 0 0 0 0 0 0 0 3 0 0 0]]\n",
      "\n",
      "#sample: 5, #features: 25\n",
      "\n",
      "feature_names = ['about', 'actually', 'capabilities', 'contains', 'data', 'databases', 'images', 'imaging', 'interesting', 'is', 'it', 'learning', 'machine', 'most', 'much', 'not', 'permanently', 'post', 'provide', 'save', 'storage', 'store', 'stuff', 'this', 'toy']\n",
      "\n",
      "<new_post_vec>\n",
      "   (0, 5)\t1\n",
      "  (0, 7)\t1\n",
      "\n",
      "<new_post_vec array form>\n",
      " [[0 0 0 0 0 1 0 1 0 0 0 0 0 0 0 0 0 0 0 0 0 0 0 0 0]]\n"
     ]
    }
   ],
   "source": [
    "vectorizer = CountVectorizer(min_df=1)\n",
    "#단어주머니를 만들기 전에 속성값을 지정해줘야 한다.\n",
    "\n",
    "X_train = vectorizer.fit_transform(posts)\n",
    "#posts를 카운터 벡터로 만들어준다.\n",
    "#vectorizer에 처음 fit시켜주는 것이므로 posts를 기준으로 열이 만들어지고, fit_transform을 사용한다.\n",
    "\n",
    "print(\"\\n<post_vec>\\n\",X_train)\n",
    "print(\"\\n<post_vec array form>\\n\",X_train.toarray())\n",
    "num_samples, num_features = X_train.shape\n",
    "#vectorizer가 예상 단어를 알 수 있도록 vectorizer에게 전체 데이터셋을 알려야 한다.\n",
    "\n",
    "print(\"\\n#sample: %d, #features: %d\" % (num_samples,num_features))\n",
    "#e5개의 게시물에는 25개의 각기 다른 단어가 있다.\n",
    "print(\"\\nfeature_names =\",vectorizer.get_feature_names())\n",
    "#25개의 각기 다른 단어들을 출력해보았다.\n",
    "\n",
    "new_post = 'imaging databases'\n",
    "new_post_vec=vectorizer.transform([new_post])\n",
    "#만들어진 단어열을 사용하려면 transform을 이용하여 카운터 벡터를 만든다.\n",
    "\n",
    "print(\"\\n<new_post_vec>\\n\",new_post_vec)\n",
    "print(\"\\n<new_post_vec array form>\\n\",new_post_vec.toarray())"
   ]
  },
  {
   "cell_type": "code",
   "execution_count": 66,
   "metadata": {
    "nbpresent": {
     "id": "77000be5-b3e6-40d3-840a-dc8c191b0683"
    }
   },
   "outputs": [
    {
     "name": "stdout",
     "output_type": "stream",
     "text": [
      "=== Post 0 with dist=4.00: This is a toy post about machine learning. Actually, it contains not much interesting stuff.\n",
      "=== Post 1 with dist=1.73: Imaging databases provide storage capabilities.\n",
      "=== Post 2 with dist=2.00: Most imaging databases save images permanently.\n",
      "\n",
      "=== Post 3 with dist=1.41: Imaging databases store data.\n",
      "=== Post 4 with dist=5.10: Imaging databases store data. Imaging databases store data. Imaging databases store data.\n",
      "Best post is 3 with dist=1.41\n",
      "[[0 0 0 0 1 1 0 1 0 0 0 0 0 0 0 0 0 0 0 0 0 1 0 0 0]]\n",
      "[[0 0 0 0 3 3 0 3 0 0 0 0 0 0 0 0 0 0 0 0 0 3 0 0 0]]\n"
     ]
    }
   ],
   "source": [
    "def dist_raw(v1, v2):\n",
    "    delta = v1 - v2\n",
    "    return sp.linalg.norm(delta.toarray())\n",
    "#유사도 계산을 하기 위한 벡터로, 카운트 벡터를 사용할 때 전체 배열을 사용해야 한다.\n",
    "#유사도 측정을 위해 새로운 게시물의 카운트 벡터와 모든 게시물의 카운트 벡터 간에 거리를 계산한다.\n",
    "\n",
    "#import sys\n",
    "\n",
    "best_doc=None\n",
    "best_dist = sys.maxsize\n",
    "best_i = None\n",
    "\n",
    "#posts는 원래 데이터 셋\n",
    "#num_samples은 데이터의 개수\n",
    "#X_train는 sentence에서 단어들을 열으로 만든 빈도 테이블(카운터 테이블)\n",
    "#X_train.getrow(1)는 X_train에서 (x ,y)라고 했을 때 x=1인 경우를 가져와라.\n",
    "#new_post_vec는 new_post를 원래 데이터셋에 있던 단어들을 가지고 빈도 테이블 만든 것.\n",
    "#new_post = \"imaging databases\"\n",
    "\n",
    "dist = dist_raw\n",
    "#dist_raw로 모든 게시물을 반복적으로 계산해 가장 가까운 값을 구한다.\n",
    "\n",
    "for i in range(0, num_samples):\n",
    "    post = posts[i]\n",
    "    if post == new_post:\n",
    "        continue\n",
    "    post_vec = X_train.getrow(i)\n",
    "    d = dist(post_vec, new_post_vec)\n",
    "\n",
    "    print(\"=== Post %i with dist=%.2f: %s\" % (i, d, post))\n",
    "\n",
    "    if d < best_dist:\n",
    "        best_dist = d\n",
    "        best_i = i\n",
    "\n",
    "print(\"Best post is %i with dist=%.2f\" % (best_i, best_dist))\n",
    "\n",
    "print(X_train.getrow(3).toarray())\n",
    "print(X_train.getrow(4).toarray())"
   ]
  },
  {
   "cell_type": "markdown",
   "metadata": {},
   "source": [
    "게시물 0은 새로운 게시물과 가장 다르다. 새로운 게시물과 같은 단어가 전혀 없기 때문이다.\n",
    "\n",
    "게시물 3과 4를 보면 게시물 4는 게시물3과 내용이 같은데 단지 세 번 더 반복 될 뿐이다.\n",
    "\n",
    "게시물 4와 게시물 3의 유사도가 같아야 한다.\n",
    "\n",
    "그러나 이것은 단어를 단지 세는 것으로만 차이를 구했기 때문에 같지 않다.\n",
    "\n",
    "따라서, 벡터를 길이 단위로 정규화할 필요가 있다."
   ]
  },
  {
   "cell_type": "markdown",
   "metadata": {
    "collapsed": true
   },
   "source": [
    "## 2]]단어-카운트-벡터-정규화하기"
   ]
  },
  {
   "cell_type": "code",
   "execution_count": 68,
   "metadata": {
    "nbpresent": {
     "id": "72f08c63-1098-4d40-b525-e42fc9554dab"
    }
   },
   "outputs": [
    {
     "name": "stdout",
     "output_type": "stream",
     "text": [
      "=== Post 0 with dist=1.41: This is a toy post about machine learning. Actually, it contains not much interesting stuff.\n",
      "=== Post 1 with dist=0.86: Imaging databases provide storage capabilities.\n",
      "=== Post 2 with dist=0.92: Most imaging databases save images permanently.\n",
      "\n",
      "=== Post 3 with dist=0.77: Imaging databases store data.\n",
      "=== Post 4 with dist=0.77: Imaging databases store data. Imaging databases store data. Imaging databases store data.\n",
      "Best post is 3 with dist=0.77\n"
     ]
    }
   ],
   "source": [
    "#norm함수는 유클리드 놈(가장 짧은 거리)을 계산한다.\n",
    "def dist_norm(v1, v2):\n",
    "    v1_normalized = v1 / sp.linalg.norm(v1.toarray())\n",
    "    v2_normalized = v2 / sp.linalg.norm(v2.toarray())\n",
    "\n",
    "    delta = v1_normalized - v2_normalized\n",
    "\n",
    "    return sp.linalg.norm(delta.toarray())\n",
    "\n",
    "dist = dist_norm\n",
    "\n",
    "best_doc=None\n",
    "best_dist = sys.maxsize\n",
    "best_i = None\n",
    "\n",
    "#posts는 원래 데이터 셋\n",
    "#num_samples은 sentence의 개수\n",
    "#X_train는 sentence에서 단어들을 열으로 만든 빈도 테이블\n",
    "#X_train.getrow(1)는 X_train에서 (x ,y)라고 했을 때 x=1인 경우를 가져와라.\n",
    "#new_post_vec는 new_post를 원래 데이터셋에 있던 단어들을 가지고 빈도 테이블 만든 것.\n",
    "#new_post = \"imaging databases\"\n",
    "\n",
    "for i in range(0, num_samples):\n",
    "    post = posts[i]\n",
    "    if post == new_post:\n",
    "        continue\n",
    "    post_vec = X_train.getrow(i)\n",
    "    d = dist(post_vec, new_post_vec)\n",
    "\n",
    "    print(\"=== Post %i with dist=%.2f: %s\" % (i, d, post))\n",
    "\n",
    "    if d < best_dist:\n",
    "        best_dist = d\n",
    "        best_i = i\n",
    "\n",
    "print(\"Best post is %i with dist=%.2f\" % (best_i, best_dist))"
   ]
  },
  {
   "cell_type": "markdown",
   "metadata": {
    "collapsed": true
   },
   "source": [
    "## 3]]덜-중요한-단어의-삭제"
   ]
  },
  {
   "cell_type": "markdown",
   "metadata": {},
   "source": [
    "게시물2를 보면 새로운 게시물에 없는 most, safe, images, permanently 단어가 있다.\n",
    "\n",
    "단어들은 실제로 게시물에서 전체적인 중요도가 꽤 다르다.\n",
    "\n",
    "most 같은 단어는 다른 문맥에서도 자주 나타나는데 그렇게 중요한 의미를 지니지 않고, \n",
    "\n",
    "다른 문맥에 잘 나타나지 않는 image만큼 중요하지도 않다.\n",
    "\n",
    "이런 단어들을 __불용어__라고 한다."
   ]
  },
  {
   "cell_type": "code",
   "execution_count": 70,
   "metadata": {
    "nbpresent": {
     "id": "fcf189d0-953f-4516-8160-fcc370bbb054"
    }
   },
   "outputs": [
    {
     "name": "stdout",
     "output_type": "stream",
     "text": [
      "#sample: 5, #features: 18\n",
      "['actually', 'capabilities', 'contains', 'data', 'databases', 'images', 'imaging', 'interesting', 'learning', 'machine', 'permanently', 'post', 'provide', 'save', 'storage', 'store', 'stuff', 'toy']\n",
      "  (0, 4)\t1\n",
      "  (0, 6)\t1\n",
      "[[0 0 0 0 1 0 1 0 0 0 0 0 0 0 0 0 0 0]]\n"
     ]
    }
   ],
   "source": [
    "vectorizer = CountVectorizer(min_df=1, stop_words='english')\n",
    "#stop_word='english'를 넣어주면 불용어들을 제거해준다.\n",
    "\n",
    "X_train = vectorizer.fit_transform(posts)\n",
    "num_samples, num_features = X_train.shape\n",
    "#다시 모델 적합을 해준다.\n",
    "\n",
    "print(\"#sample: %d, #features: %d\" % (num_samples,num_features))\n",
    "print(vectorizer.get_feature_names())\n",
    "#25개에서 18개로 7개의 불용어가 제거된 것을 확인할 수 있다.\n",
    "\n",
    "new_post = \"Imaging databases\"\n",
    "new_post_vec = vectorizer.transform([new_post])\n",
    "#새로운 데이터도 새로운 모델이 적합해준다.\n",
    "\n",
    "print(new_post_vec)\n",
    "print(new_post_vec.toarray())"
   ]
  },
  {
   "cell_type": "code",
   "execution_count": 71,
   "metadata": {
    "nbpresent": {
     "id": "57cf6e9c-c71d-4941-ada9-565959fed4fa"
    }
   },
   "outputs": [
    {
     "name": "stdout",
     "output_type": "stream",
     "text": [
      "=== Post 0 with dist=1.41: This is a toy post about machine learning. Actually, it contains not much interesting stuff.\n",
      "=== Post 1 with dist=0.86: Imaging databases provide storage capabilities.\n",
      "=== Post 2 with dist=0.86: Most imaging databases save images permanently.\n",
      "\n",
      "=== Post 3 with dist=0.77: Imaging databases store data.\n",
      "=== Post 4 with dist=0.77: Imaging databases store data. Imaging databases store data. Imaging databases store data.\n",
      "Best post is 3 with dist=0.77\n",
      "[[0 1 0 0 1 0 1 0 0 0 0 0 1 0 1 0 0 0]]\n",
      "[[0 0 0 0 1 1 1 0 0 0 1 0 0 1 0 0 0 0]]\n"
     ]
    }
   ],
   "source": [
    "dist = dist_norm\n",
    "\n",
    "best_doc=None\n",
    "best_dist = sys.maxsize\n",
    "best_i = None\n",
    "\n",
    "#posts는 원래 데이터 셋\n",
    "#num_samples은 sentence의 개수\n",
    "#X_train는 sentence에서 단어들을 열으로 만든 빈도 테이블\n",
    "#X_train.getrow(1)는 X_train에서 (x ,y)라고 했을 때 x=1인 경우를 가져와라.\n",
    "#new_post_vec는 new_post를 원래 데이터셋에 있던 단어들을 가지고 빈도 테이블 만든 것.\n",
    "#new_post = \"imaging databases\"\n",
    "\n",
    "for i in range(0, num_samples):\n",
    "    post = posts[i]\n",
    "    if post == new_post:\n",
    "        continue\n",
    "    post_vec = X_train.getrow(i)\n",
    "    d = dist(post_vec, new_post_vec)\n",
    "\n",
    "    print(\"=== Post %i with dist=%.2f: %s\" % (i, d, post))\n",
    "\n",
    "    if d < best_dist:\n",
    "        best_dist = d\n",
    "        best_i = i\n",
    "\n",
    "print(\"Best post is %i with dist=%.2f\" % (best_i, best_dist))\n",
    "\n",
    "print(X_train.getrow(1).toarray())\n",
    "print(X_train.getrow(2).toarray())\n",
    "#불용어들을 삭제하니 게시물 1과 2가 같아졌다."
   ]
  },
  {
   "cell_type": "markdown",
   "metadata": {
    "collapsed": true
   },
   "source": [
    "## 4]]어근-추출"
   ]
  },
  {
   "cell_type": "code",
   "execution_count": 73,
   "metadata": {
    "nbpresent": {
     "id": "073fe9b3-7339-4f3d-b9db-9d6182efe851"
    }
   },
   "outputs": [
    {
     "name": "stdout",
     "output_type": "stream",
     "text": [
      "graphic\n",
      "imag\n",
      "imagin\n",
      "imagin\n",
      "buy\n",
      "buy\n",
      "bought\n"
     ]
    }
   ],
   "source": [
    "import nltk.stem\n",
    "s = nltk.stem.SnowballStemmer('english')\n",
    "#MLTK의 어근추출기(stemmer)를 사용가능 \n",
    "\n",
    "print(s.stem(\"graphics\"))\n",
    "print(s.stem(\"imaging\"))\n",
    "print(s.stem(\"imagination\"))\n",
    "print(s.stem(\"imagine\"))\n",
    "print(s.stem(\"buys\"))\n",
    "print(s.stem(\"buying\"))\n",
    "print(s.stem(\"bought\"))"
   ]
  },
  {
   "cell_type": "code",
   "execution_count": 74,
   "metadata": {
    "collapsed": true,
    "nbpresent": {
     "id": "0385b808-d5e2-4f5e-a098-389374065e4d"
    }
   },
   "outputs": [],
   "source": [
    "#NLTK로 vectorizer 확장"
   ]
  },
  {
   "cell_type": "code",
   "execution_count": 75,
   "metadata": {
    "nbpresent": {
     "id": "ac164ce7-802e-4478-9b07-70abb79a9d4e"
    }
   },
   "outputs": [
    {
     "name": "stdout",
     "output_type": "stream",
     "text": [
      "#sample: 5, #features: 17\n",
      "['actual', 'capabl', 'contain', 'data', 'databas', 'imag', 'interest', 'learn', 'machin', 'perman', 'post', 'provid', 'save', 'storag', 'store', 'stuff', 'toy']\n",
      "  (0, 4)\t1\n",
      "  (0, 5)\t1\n",
      "[[0 0 0 0 1 1 0 0 0 0 0 0 0 0 0 0 0]]\n"
     ]
    }
   ],
   "source": [
    "#CountVectorizer에 입력되기 전에 게시물에서 어근을 추출할 필요가 있다.\n",
    "#build_analyzer 메소드를 오버라이드하자.(클래스 본래의 목적이 토큰화와 정규화이기 때문에 어근을 임의적으로 넣기 원하지 않는다.)\n",
    "english_stemmer= nltk.stem.SnowballStemmer('english')\n",
    "english_stemmer\n",
    "\n",
    "class StemmedCountVectorizer(CountVectorizer):\n",
    "\n",
    "    def build_analyzer(self):\n",
    "        analyzer = super(StemmedCountVectorizer, self).build_analyzer()\n",
    "        return lambda doc: (english_stemmer.stem(w) for w in analyzer(doc))\n",
    "\n",
    "\n",
    "vectorizer = StemmedCountVectorizer(min_df=1, stop_words='english')\n",
    "# vectorizer = CountVectorizer(min_df=1, stop_words='english',preprocessor=stemmer)과 같다.\n",
    "\n",
    "#각 게시물은 다음과 같은 단계를 거친다.\n",
    "#1. 전처리 단계에서 소문자로 변환(상위클래스에서 추출)\n",
    "#2. 토큰화 단계에서 각 단어 추출(상위클래스에서 추출)\n",
    "#3. 각 단어를 어근으로 변환\n",
    "#예를 들어, imaging과 images가 하나로 합쳐져, 결과적으로 하나의 속성을 덜 갖게 된다.\n",
    "\n",
    "X_train = vectorizer.fit_transform(posts)\n",
    "num_samples, num_features = X_train.shape\n",
    "print(\"#sample: %d, #features: %d\" % (num_samples,num_features))\n",
    "print(vectorizer.get_feature_names())\n",
    "\n",
    "new_post = \"Imaging databases\"\n",
    "new_post_vec = vectorizer.transform([new_post])\n",
    "print(new_post_vec)\n",
    "print(new_post_vec.toarray())"
   ]
  },
  {
   "cell_type": "code",
   "execution_count": 76,
   "metadata": {
    "nbpresent": {
     "id": "625d369b-aaf2-4225-8576-8047f79d0206"
    }
   },
   "outputs": [
    {
     "name": "stdout",
     "output_type": "stream",
     "text": [
      "=== Post 0 with dist=1.41: This is a toy post about machine learning. Actually, it contains not much interesting stuff.\n",
      "=== Post 1 with dist=0.86: Imaging databases provide storage capabilities.\n",
      "=== Post 2 with dist=0.63: Most imaging databases save images permanently.\n",
      "\n",
      "=== Post 3 with dist=0.77: Imaging databases store data.\n",
      "=== Post 4 with dist=0.77: Imaging databases store data. Imaging databases store data. Imaging databases store data.\n",
      "Best post is 2 with dist=0.63\n"
     ]
    }
   ],
   "source": [
    "dist = dist_norm\n",
    "\n",
    "best_doc=None\n",
    "best_dist = sys.maxsize\n",
    "best_i = None\n",
    "\n",
    "for i in range(0, num_samples):\n",
    "    post = posts[i]\n",
    "    if post == new_post:\n",
    "        continue\n",
    "    post_vec = X_train.getrow(i)\n",
    "    d = dist(post_vec, new_post_vec)\n",
    "\n",
    "    print(\"=== Post %i with dist=%.2f: %s\" % (i, d, post))\n",
    "\n",
    "    if d < best_dist:\n",
    "        best_dist = d\n",
    "        best_i = i\n",
    "\n",
    "print(\"Best post is %i with dist=%.2f\" % (best_i, best_dist))\n",
    "#imaging과 images가 하나로 합쳐져, 결과적으로 하나의 속성을 덜 갖게 된다.\n",
    "#새로운 어근형 vectorizer를 실행하면 imaging과 images가 하나로 합해져 imag라는 용어가 두번 포함되기 때문에 \n",
    "#게시물 2가 새로운 게시물과 가장 유사해진다."
   ]
  },
  {
   "cell_type": "markdown",
   "metadata": {
    "collapsed": true
   },
   "source": [
    "## 5]]강화된-불용어"
   ]
  },
  {
   "cell_type": "code",
   "execution_count": 78,
   "metadata": {
    "nbpresent": {
     "id": "83038bad-50e3-4c21-86fd-88b61eefada5"
    }
   },
   "outputs": [
    {
     "name": "stdout",
     "output_type": "stream",
     "text": [
      "=========test code===========\n",
      "3\n",
      "set(d)= {'b', 'a'}\n",
      "d에서 t인 b가 몇번 등장하나 : 2.0\n",
      "d의 알파벳 개수 = 3\n",
      "tf는 d에서 t의 비율 =  0.6666666666666666\n",
      "len는 D에서 t가 몇번 등장하나 :  2\n",
      "D의 개수= 3.0\n",
      "sp.log은 lob(D의 길이/D에서 t가 몇번 등장하나) : 0.405465108108\n",
      "idf=0.405465 ,idf는 log(전체/영향)\n",
      "tf * idf= 0.270310072072\n",
      "=========end===========\n",
      "\n",
      "tfidf(\"a\", a, D) = 0.0\n",
      "tfidf(\"a\", abb, D) = 0.0\n",
      "tfidf(\"b\", abb, D) = 0.270310072072\n",
      "tfidf(\"a\", abc, D) = 0.0\n",
      "tfidf(\"b\", abc, D) = 0.135155036036\n",
      "tfidf(\"c\", abc, D) = 0.366204096223\n"
     ]
    }
   ],
   "source": [
    "#노이즈한 본문 게시물로부터 간결한 벡터를 추출하는 합리적인 방법을 살펴보자.\n",
    "#속성 값은 단순히 게시물의 단어 빈도수다.\n",
    "#이 값이 높으면 높을수록 주어진 문서에서 중요한 용어라고 생각할 수 있다.\n",
    "#모든 게시물에 있는 주제 단어는 max_df=0.9를 사용하여 제거할 수 있지만 89%가 나오는 단어는 어떠한가?\n",
    "#얼마나 낮은 값으로 max_df를 설정해야하는가?\n",
    "#문제는 어떤 값으로 설정하든 간에 일부 용어를 더 차별한다는 것이다.\n",
    "\n",
    "#이것의 해결법은 모든 게시물에서 용어빈도를 세는 것이다.\n",
    "#그리고 많은 게시물에서 나타나는 단어는 무시할 수도 있다.\n",
    "\n",
    "#전체적으로는 매우 드물지만 특정 게시물에서 자주 나타나는 용어가 있다면 우리는 그 용어의 값만 높길 바란다.\n",
    "#이것이 정확히 용어 빈도-역 문서 빈도(TF-IDF, term frequency-inverse documnet frequency)가 하는 일이다.\n",
    "#TF는 단어를 세는 부분\n",
    "#IDF는 무시하는 부분\n",
    "\n",
    "import scipy as sp\n",
    "\n",
    "\n",
    "def tfidf(t, d, D):\n",
    "    tf = float(d.count(t)) / sum(d.count(w) for w in set(d))\n",
    "    idf = sp.log(float(len(D)) / (len([doc for doc in D if t in doc])))\n",
    "    return tf * idf\n",
    "\n",
    "#용어를 셀뿐만 아니라 문서 크기로 용어의 빈도를 정규화한다.\n",
    "#이 방법은 좀 더 긴 문서가 짧은 문서보다 불공평한 이점을 갖기 않도록 한다.\n",
    "\n",
    "#문서 D에 이미 토큰화된 3개의 문서가 있고, 용어가 모든 문서에 동일하게 나타나더라도 어떤 차이가 있는지 알 수 있다.\n",
    "a, abb, abc = [\"a\"], [\"a\", \"b\", \"b\"], [\"a\", \"b\", \"c\"]\n",
    "D = [a, abb, abc]\n",
    "\n",
    "\n",
    "##test code\n",
    "print(\"=========test code===========\")\n",
    "t=\"b\"\n",
    "d=abb\n",
    "D=D\n",
    "print(sum(d.count(w) for w in set(d)))\n",
    "print(\"set(d)=\",set(d))\n",
    "print(\"d에서 t인 b가 몇번 등장하나 :\",float(d.count(t)))\n",
    "print(\"d의 알파벳 개수 =\",sum(d.count(w) for w in set(d)))\n",
    "tf = float(d.count(t)) / sum(d.count(w) for w in set(d))\n",
    "print(\"tf는 d에서 t의 비율 = \",tf)\n",
    "print(\"len는 D에서 t가 몇번 등장하나 : \",len([doc for doc in D if t in doc]))\n",
    "print(\"D의 개수=\",float(len(D)))\n",
    "print(\"sp.log은 lob(D의 길이/D에서 t가 몇번 등장하나) :\",sp.log(float(len(D)) / (len([doc for doc in D if t in doc]))))\n",
    "idf = sp.log(float(len(D)) / (len([doc for doc in D if t in doc])))\n",
    "print(\"idf=%f ,idf는 log(전체/영향)\" % idf)\n",
    "print(\"tf * idf=\",tf * idf)\n",
    "print(\"=========end===========\\n\")\n",
    "##\n",
    "#TF는 단어를 세는 부분을 고려 : 한 문장에서 t가 포함된 것이 몇개나 있니?\n",
    "\n",
    "#IDF는 무시하는 부분을 고려 : log(D전체/D에서 t가 포함된 개수) : (cuz : 전체에서 t가 많으면 주제어일 가능성이 높으니까)\n",
    "#1에 가까우면 주제어. 1보다 크면 주제어일 가능성이 낮아짐. log는 증가함수. IDF는 주제어가 아닐 확률이라고 해석가능\n",
    "#주제어는 무시되어야 하는 부분임.\n",
    "\n",
    "#TF * IDF = 한 문장에서 t가 포함된 것이 몇개나 있니? * 주제어가 아닐 가능성\n",
    "#즉, TF * IDF는 IDF에 따라서 TF의 영향력이 결정된다.\n",
    "#단어가 주제어이면 영향력을 줄이겠다.\n",
    "\n",
    "print(\"tfidf(\\\"a\\\", a, D) =\",tfidf(\"a\", a, D))\n",
    "print(\"tfidf(\\\"a\\\", abb, D) =\",tfidf(\"a\", abb, D))\n",
    "print(\"tfidf(\\\"b\\\", abb, D) =\",tfidf(\"b\", abb, D))\n",
    "print(\"tfidf(\\\"a\\\", abc, D) =\",tfidf(\"a\", abc, D))\n",
    "print(\"tfidf(\\\"b\\\", abc, D) =\",tfidf(\"b\", abc, D))\n",
    "print(\"tfidf(\\\"c\\\", abc, D) =\",tfidf(\"c\", abc, D))\n",
    "#a는 모든 문서에 포함되어 있기 때문에 어떤 문서에서도 중요하지 않다.\n",
    "#b는 abc문서보다 abb에서 중요한데, abb는 b가 두 번 나오기 때문이다."
   ]
  },
  {
   "cell_type": "code",
   "execution_count": 79,
   "metadata": {
    "nbpresent": {
     "id": "816ba44b-b124-4a52-af9e-d5b4037c37b4"
    }
   },
   "outputs": [
    {
     "name": "stdout",
     "output_type": "stream",
     "text": [
      "['actual', 'capabl', 'contain', 'data', 'databas', 'imag', 'interest', 'learn', 'machin', 'perman', 'post', 'provid', 'save', 'storag', 'store', 'stuff', 'toy'] \n",
      "\n",
      "IDF(actual)=2.10\n",
      "IDF(capabl)=2.10\n",
      "IDF(contain)=2.10\n",
      "IDF(data)=1.69\n",
      "IDF(databas)=1.18\n",
      "IDF(imag)=1.18\n",
      "IDF(interest)=2.10\n",
      "IDF(learn)=2.10\n",
      "IDF(machin)=2.10\n",
      "IDF(perman)=2.10\n",
      "IDF(post)=2.10\n",
      "IDF(provid)=2.10\n",
      "IDF(save)=2.10\n",
      "IDF(storag)=2.10\n",
      "IDF(store)=1.69\n",
      "IDF(stuff)=2.10\n",
      "IDF(toy)=2.10\n",
      "\n",
      "\n",
      "< databas 의 tf-idf>\n",
      "tf = 0.5 \n",
      "idf = 1.18232155679 \n",
      "tf-idf = 0.591160778397 \n",
      "\n",
      "< imag 의 tf-idf>\n",
      "tf = 0.5 \n",
      "idf = 1.18232155679 \n",
      "tf-idf = 0.591160778397 \n",
      "\n"
     ]
    }
   ],
   "source": [
    "from sklearn.feature_extraction.text import TfidfVectorizer\n",
    "\n",
    "class StemmedTfidfVectorizer(TfidfVectorizer):\n",
    "\n",
    "    def build_analyzer(self):\n",
    "        analyzer = super(StemmedTfidfVectorizer, self).build_analyzer()\n",
    "        \n",
    "        return lambda doc: (english_stemmer.stem(w) for w in analyzer(doc))\n",
    "    \n",
    "vectorizer = StemmedTfidfVectorizer(min_df=1, stop_words='english', decode_error='ignore')\n",
    "# vectorizer = CountVectorizer(min_df=1, stop_words='english',preprocessor=stemmer)과 같다.\n",
    "vectorizer1 = StemmedTfidfVectorizer(min_df=1, stop_words='english', decode_error='ignore')\n",
    "vectorized = vectorizer.fit_transform(posts)\n",
    "\n",
    "analyzer = vectorizer.build_analyzer()\n",
    "useful = vectorizer.get_feature_names()\n",
    "print(sorted(useful),\"\\n\")\n",
    "\n",
    "for term in sorted(useful):\n",
    "    print('IDF(%s)=%.2f' % (term,vectorizer._tfidf.idf_[vectorizer.vocabulary_[term]]))\n",
    "\n",
    "new_post = \"Imaging databases\"\n",
    "test = vectorizer1.fit_transform([new_post])\n",
    "new_post_word  = vectorizer1.get_feature_names()\n",
    "\n",
    "print(\"\\n\")\n",
    "for t in new_post_word:\n",
    "    print(\"<\",t,\"의 tf-idf>\")\n",
    "    tf=float(new_post_word.count(t))/sum(new_post_word.count(w) for w in set(new_post_word))\n",
    "    idf = vectorizer._tfidf.idf_[vectorizer.vocabulary_[t]]\n",
    "    print(\"tf =\",tf,\"\\nidf =\",idf,\"\\ntf-idf =\",tf*idf,\"\\n\")"
   ]
  },
  {
   "cell_type": "code",
   "execution_count": 80,
   "metadata": {
    "nbpresent": {
     "id": "c407dc01-8a75-4566-8568-ad6f5ec90d78"
    }
   },
   "outputs": [
    {
     "name": "stdout",
     "output_type": "stream",
     "text": [
      "#sample: 5, #features: 17\n",
      "['actual', 'capabl', 'contain', 'data', 'databas', 'imag', 'interest', 'learn', 'machin', 'perman', 'post', 'provid', 'save', 'storag', 'store', 'stuff', 'toy']\n",
      "  (0, 5)\t0.707106781187\n",
      "  (0, 4)\t0.707106781187\n",
      "[[ 0.          0.          0.          0.          0.70710678  0.70710678\n",
      "   0.          0.          0.          0.          0.          0.          0.\n",
      "   0.          0.          0.          0.        ]]\n",
      "=== Post 0 with dist=1.41: This is a toy post about machine learning. Actually, it contains not much interesting stuff.\n",
      "=== Post 1 with dist=1.08: Imaging databases provide storage capabilities.\n",
      "=== Post 2 with dist=0.86: Most imaging databases save images permanently.\n",
      "\n",
      "=== Post 3 with dist=0.92: Imaging databases store data.\n",
      "=== Post 4 with dist=0.92: Imaging databases store data. Imaging databases store data. Imaging databases store data.\n",
      "Best post is 2 with dist=0.86\n"
     ]
    }
   ],
   "source": [
    "vectorizer = StemmedTfidfVectorizer(min_df=1, stop_words='english', decode_error='ignore')\n",
    "\n",
    "X_train = vectorizer.fit_transform(posts)\n",
    "num_samples, num_features = X_train.shape\n",
    "print(\"#sample: %d, #features: %d\" % (num_samples,num_features))\n",
    "print(vectorizer.get_feature_names())\n",
    "\n",
    "new_post = \"Imaging databases\"\n",
    "new_post_vec = vectorizer.transform([new_post])\n",
    "print(new_post_vec)\n",
    "print(new_post_vec.toarray())\n",
    "\n",
    "dist = dist_norm\n",
    "\n",
    "best_doc=None\n",
    "best_dist = sys.maxsize\n",
    "best_i = None\n",
    "\n",
    "for i in range(0, num_samples):\n",
    "    post = posts[i]\n",
    "    if post == new_post:\n",
    "        continue\n",
    "    post_vec = X_train.getrow(i)\n",
    "    d = dist(post_vec, new_post_vec)\n",
    "\n",
    "    print(\"=== Post %i with dist=%.2f: %s\" % (i, d, post))\n",
    "\n",
    "    if d < best_dist:\n",
    "        best_dist = d\n",
    "        best_i = i\n",
    "\n",
    "print(\"Best post is %i with dist=%.2f\" % (best_i, best_dist))\n",
    "#imaging과 images가 하나로 합쳐져, 결과적으로 하나의 속성을 덜 갖게 된다.\n",
    "#새로운 어근형 vectorizer를 실행하면 imaging과 images가 하나로 합해져 imag라는 용어가 두번 포함되기 때문에 \n",
    "#게시물 2가 새로운 게시물과 가장 유사해진다."
   ]
  },
  {
   "cell_type": "markdown",
   "metadata": {},
   "source": [
    "\n",
    "## 2]우리의-성취와-목표"
   ]
  },
  {
   "cell_type": "markdown",
   "metadata": {},
   "source": [
    "__<현재 우리가 진행한 텍스트 전처리 과정>__\n",
    "\n",
    "1.텍스트의 토큰화\n",
    "\n",
    "2.관련 게시물을 발견하기 위해 너무 자주 나타나는 단어 배제\n",
    "\n",
    "3.미래의 게시물에서 나타날 빈도가 낮은 단어 배제\n",
    "\n",
    "4.남은 단어 세기\n",
    "\n",
    "5.전체 텍스트 말뭉치를 고려한 TF-IDF값 계산\n"
   ]
  },
  {
   "cell_type": "markdown",
   "metadata": {},
   "source": [
    "__<단어 주머니 접근법의 문제점>__\n",
    "\n",
    "1. 단어간의 관련성을 다루지 못한다.\n",
    "\n",
    "ex> 차가 벽을 박았다. 벽이 차를 박았다. => 같은 속성 벡터 가짐\n",
    "\n",
    "2. 부정적인 의미를 인지할 수 없다.\n",
    "\n",
    "ex> 나는 아이스크림을 먹겠다. 나는 아이스크림을 먹지 않겠다. => 속성벡터 매우 유사 [해결법 : 두단어, 세단어로 자르기]\n",
    "\n",
    "3. 오기(오타, 문법에 맞지 않은 단어)는 치명적이다.\n",
    "\n",
    "ex> database, databas"
   ]
  },
  {
   "cell_type": "markdown",
   "metadata": {},
   "source": [
    "=> 이러한 문제점이 있지만 간결성을 위해, 효과적인 군집 형태를 만들 수 있는 현재 접근법(단어 주머니 접근법)을 고수하고자 한다."
   ]
  },
  {
   "cell_type": "markdown",
   "metadata": {},
   "source": [
    "============================================================================================================="
   ]
  },
  {
   "cell_type": "markdown",
   "metadata": {
    "collapsed": true
   },
   "source": [
    "## 3.군집화"
   ]
  },
  {
   "cell_type": "markdown",
   "metadata": {},
   "source": [
    "1] [k평균](#1]k평균)\n",
    "\n",
    "2] [우리의 발상을 평가하기 위한 테스트 데이터 얻기](#2][우리의-발상을-평가하기-위한-테스트-데이터-얻기)\n",
    "\n",
    "3] [게시물 군집화](#3]게시물-군집화)"
   ]
  },
  {
   "cell_type": "markdown",
   "metadata": {},
   "source": [
    "게시물을 구별하기 위한 전처리가 끝났다.\n",
    "\n",
    "이제 군집화를 해보자.\n",
    "\n",
    "군집화 알고리즘은 '수평군집화'와 '계층군집화'라는 두가지 종류로 나뉜다.\n",
    "\n",
    ">__수평군집화__ : 게시물을 군집 서로 간의 관계와 상관없이 군집 집합으로 나눈다. 간은 군집에 있는 모든 게시물을 최대한 유사하게, 다른 군집에 있는 게시물들과는 차이가 나도록 구분한다. 특정 군집 개수(몇개로 나눌 것인가?)를 필요로 한다.\n",
    "\n",
    ">__계층군집화__ : 군집 개수를 알지 못해도 상관없다. 대신에 계층을 만든다. 비슷한 게시물끼리 그룹을 만들어 하나의 군집을 만들고 다시 이 군집과 다른 군집을 그룹으로 만들어 반복적으로 하나의 군집이 남을 때까지 수행한다. 나누어진 계층을 보고 군집 개수를 정할 수 있지만 효율성이 떨어진다."
   ]
  },
  {
   "cell_type": "markdown",
   "metadata": {},
   "source": [
    "다음 절에서는 수평군집화인 k평균을 사용하여, 원하는 군집 개수를 조절해보자."
   ]
  },
  {
   "cell_type": "markdown",
   "metadata": {
    "collapsed": true
   },
   "source": [
    "## 1]k평균"
   ]
  },
  {
   "cell_type": "markdown",
   "metadata": {},
   "source": [
    "__k평균__은 __수평군집화__ 이다.\n",
    "\n",
    "1) 수평군집화이므로 군집개수를 지정해줘야한다.\n",
    "\n",
    "2) 지정된 군집개수(num_clusters)만큼 군집 중앙점을 만든다.\n",
    "\n",
    "3) 맨처음에 군집개수만큼의 게시물을 무작위로 선택해 선택된 게시물들의 속성 벡터를 클러스터의 중앙점으로 지정한다.\n",
    "\n",
    "4) 다른 모든 게시물에 대해 조사하여 가장 가까운 중앙점을 게시물의 군집으로 지정한다.\n",
    "\n",
    "5) 이 다음, 특정 범주의 모든 게시물의 중앙으로 중앙점을 이동한다.\n",
    "\n",
    "6) 다시 중앙점이 군집지정을 변경해야 한다.\n",
    "\n",
    "일부 게시물은 다른 군집에 가까워진다.\n",
    "\n",
    "그러면 이러한 변화된 게시물에 대해 군집 지정을 갱신한다.\n",
    "\n",
    "* 이 과정은 중앙점이 상당히 이동하는 한 계속된다.\n",
    "\n",
    "일정 반복 후에 움직임은 일정 수치(용인 경계 값 : 0.0001) 아래로 내려가고 군집이 수렴된다.\n",
    "\n",
    "* scikit-learn의 용인 경계 값은 0.0001이 기본 설정 값이다.(차이)"
   ]
  },
  {
   "cell_type": "code",
   "execution_count": 2,
   "metadata": {
    "nbpresent": {
     "id": "6744415e-f1a6-4233-9a0e-4e63176f18c7"
    }
   },
   "outputs": [
    {
     "data": {
      "image/png": "[encoded data removed]",
      "text/plain": [
       "<matplotlib.figure.Figure at 0x540bb8b4a8>"
      ]
     },
     "metadata": {},
     "output_type": "display_data"
    }
   ],
   "source": [
    "import os\n",
    "import scipy as sp\n",
    "from scipy.stats import norm\n",
    "from matplotlib import pylab\n",
    "from sklearn.cluster import KMeans\n",
    "\n",
    "from utils import CHART_DIR\n",
    "\n",
    "seed = 2\n",
    "sp.random.seed(seed)  # 이후에 같은 데이터를 생성하기 위해\n",
    "\n",
    "num_clusters = 3\n",
    "\n",
    "\n",
    "def plot_clustering(x, y, title, mx=None, ymax=None, xmin=None, km=None):\n",
    "    pylab.figure(num=None, figsize=(8, 6))\n",
    "    if km:\n",
    "        pylab.scatter(x, y, s=50, c=km.predict(list(zip(x, y))))\n",
    "    else:\n",
    "        pylab.scatter(x, y, s=50)\n",
    "\n",
    "    pylab.title(title)\n",
    "    pylab.xlabel(\"Occurrence word 1\")\n",
    "    pylab.ylabel(\"Occurrence word 2\")\n",
    "\n",
    "    pylab.autoscale(tight=True)\n",
    "    pylab.ylim(ymin=0, ymax=1)\n",
    "    pylab.xlim(xmin=0, xmax=1)\n",
    "    pylab.grid(True, linestyle='-', color='0.75')\n",
    "\n",
    "    return pylab\n",
    "\n",
    "\n",
    "xw1 = norm(loc=0.3, scale=.15).rvs(20)\n",
    "yw1 = norm(loc=0.3, scale=.15).rvs(20)\n",
    "\n",
    "xw2 = norm(loc=0.7, scale=.15).rvs(20)\n",
    "yw2 = norm(loc=0.7, scale=.15).rvs(20)\n",
    "\n",
    "xw3 = norm(loc=0.2, scale=.15).rvs(20)\n",
    "yw3 = norm(loc=0.8, scale=.15).rvs(20)\n",
    "\n",
    "x = sp.append(sp.append(xw1, xw2), xw3)\n",
    "y = sp.append(sp.append(yw1, yw2), yw3)\n",
    "#벡터로 xw1,xw2,xv3를 모두 이어 붙임\n",
    "\n",
    "i = 1\n",
    "plot_clustering(x, y, \"Vectors\")\n",
    "#pylab.savefig(os.path.join(CHART_DIR, \"1400_03_0%i.png\" % i))\n",
    "#pylab.clf()\n",
    "pylab.show()\n",
    "#맨처음 x,y의 plot을 찍는다.\n",
    "i=i+1"
   ]
  },
  {
   "cell_type": "code",
   "execution_count": 4,
   "metadata": {
    "nbpresent": {
     "id": "20f5df50-29a8-428d-9b2a-485cbdcbd18c"
    }
   },
   "outputs": [
    {
     "name": "stdout",
     "output_type": "stream",
     "text": [
      "[[ 0.     0.001  0.002 ...,  0.997  0.998  0.999]\n",
      " [ 0.     0.001  0.002 ...,  0.997  0.998  0.999]\n",
      " [ 0.     0.001  0.002 ...,  0.997  0.998  0.999]\n",
      " ..., \n",
      " [ 0.     0.001  0.002 ...,  0.997  0.998  0.999]\n",
      " [ 0.     0.001  0.002 ...,  0.997  0.998  0.999]\n",
      " [ 0.     0.001  0.002 ...,  0.997  0.998  0.999]]\n",
      "[[ 0.     0.     0.    ...,  0.     0.     0.   ]\n",
      " [ 0.001  0.001  0.001 ...,  0.001  0.001  0.001]\n",
      " [ 0.002  0.002  0.002 ...,  0.002  0.002  0.002]\n",
      " ..., \n",
      " [ 0.997  0.997  0.997 ...,  0.997  0.997  0.997]\n",
      " [ 0.998  0.998  0.998 ...,  0.998  0.998  0.998]\n",
      " [ 0.999  0.999  0.999 ...,  0.999  0.999  0.999]]\n",
      "Initialization complete\n",
      "start iteration\n",
      "done sorting\n",
      "end inner loop\n",
      "Iteration 0, inertia 3.7464563797\n"
     ]
    },
    {
     "data": {
      "image/png": "[encoded data removed]",
      "text/plain": [
       "<matplotlib.figure.Figure at 0x540be1f588>"
      ]
     },
     "metadata": {},
     "output_type": "display_data"
    }
   ],
   "source": [
    "# 1 iteration ####################\n",
    "\n",
    "mx, my = sp.meshgrid(sp.arange(0, 1, 0.001), sp.arange(0, 1, 0.001))\n",
    "print(|<mx>\\nmx)\n",
    "print(my)\n",
    "km = KMeans(init='random', n_clusters=num_clusters, verbose=1,\n",
    "            n_init=1, max_iter=1,\n",
    "            random_state=seed)\n",
    "#반복수 1번\n",
    "km.fit(sp.array(list(zip(x, y))))\n",
    "\n",
    "Z = km.predict(sp.c_[mx.ravel(), my.ravel()]).reshape(mx.shape)\n",
    "\n",
    "plot_clustering(x, y, \"Clustering iteration 1\", km=km)\n",
    "pylab.imshow(Z, interpolation='nearest',\n",
    "             extent=(mx.min(), mx.max(), my.min(), my.max()),\n",
    "             cmap=pylab.cm.Blues,\n",
    "             aspect='auto', origin='lower')\n",
    "\n",
    "c1a, c1b, c1c = km.cluster_centers_\n",
    "pylab.scatter(km.cluster_centers_[:, 0], km.cluster_centers_[:, 1],\n",
    "              marker='x', linewidth=2, s=100, color='black')\n",
    "#pylab.savefig(os.path.join(CHART_DIR, \"1400_03_0%i.png\" % i))\n",
    "#pylab.clf()\n",
    "pylab.show()\n",
    "#한번 반복했을 때의 중심점이다.\n",
    "i=i+1"
   ]
  },
  {
   "cell_type": "code",
   "execution_count": null,
   "metadata": {
    "nbpresent": {
     "id": "cdcc7f58-ca08-4576-a2ad-6979fd775f71"
    }
   },
   "outputs": [],
   "source": [
    "# 2 iterations ####################\n",
    "km = KMeans(init='random', n_clusters=num_clusters, verbose=1,\n",
    "            n_init=1, max_iter=2,\n",
    "            random_state=seed)\n",
    "#반복수 2번\n",
    "km.fit(sp.array(list(zip(x, y))))\n",
    "\n",
    "Z = km.predict(sp.c_[mx.ravel(), my.ravel()]).reshape(mx.shape)\n",
    "\n",
    "plot_clustering(x, y, \"Clustering iteration 2\", km=km)\n",
    "pylab.imshow(Z, interpolation='nearest',\n",
    "             extent=(mx.min(), mx.max(), my.min(), my.max()),\n",
    "             cmap=pylab.cm.Blues,\n",
    "             aspect='auto', origin='lower')\n",
    "\n",
    "c2a, c2b, c2c = km.cluster_centers_\n",
    "pylab.scatter(km.cluster_centers_[:, 0], km.cluster_centers_[:, 1],\n",
    "              marker='x', linewidth=2, s=100, color='black')\n",
    "\n",
    "pylab.gca().add_patch(\n",
    "    pylab.Arrow(c1a[0], c1a[1], c2a[0] - c1a[0], c2a[1] - c1a[1], width=0.1))\n",
    "pylab.gca().add_patch(\n",
    "    pylab.Arrow(c1b[0], c1b[1], c2b[0] - c1b[0], c2b[1] - c1b[1], width=0.1))\n",
    "pylab.gca().add_patch(\n",
    "    pylab.Arrow(c1c[0], c1c[1], c2c[0] - c1c[0], c2c[1] - c1c[1], width=0.1))\n",
    "\n",
    "#pylab.savefig(os.path.join(CHART_DIR, \"1400_03_0%i.png\" % i))\n",
    "#pylab.clf()\n",
    "pylab.show()\n",
    "#두 번 반복했을 때의 중심점이다.\n",
    "i += 1"
   ]
  },
  {
   "cell_type": "code",
   "execution_count": null,
   "metadata": {
    "nbpresent": {
     "id": "0a8885a3-2490-4958-a4c8-f0eb6133c863"
    }
   },
   "outputs": [],
   "source": [
    "# 3 iterations ####################\n",
    "km = KMeans(init='random', n_clusters=num_clusters, verbose=1,\n",
    "            n_init=1, max_iter=10,\n",
    "            random_state=seed)\n",
    "#반복수 10번\n",
    "km.fit(sp.array(list(zip(x, y))))\n",
    "\n",
    "Z = km.predict(sp.c_[mx.ravel(), my.ravel()]).reshape(mx.shape)\n",
    "\n",
    "plot_clustering(x, y, \"Clustering iteration 10\", km=km)\n",
    "pylab.imshow(Z, interpolation='nearest',\n",
    "             extent=(mx.min(), mx.max(), my.min(), my.max()),\n",
    "             cmap=pylab.cm.Blues,\n",
    "             aspect='auto', origin='lower')\n",
    "\n",
    "c3a, c3b, c3c = km.cluster_centers_\n",
    "pylab.scatter(km.cluster_centers_[:, 0], km.cluster_centers_[:, 1],\n",
    "              marker='x', linewidth=2, s=100, color='black')\n",
    "\n",
    "#pylab.savefig(os.path.join(CHART_DIR, \"1400_03_0%i.png\" % i))\n",
    "#pylab.clf()\n",
    "pylab.show()\n",
    "#세 번 반복했을 때의 중심점이다.\n",
    "i += 1"
   ]
  },
  {
   "cell_type": "code",
   "execution_count": null,
   "metadata": {
    "nbpresent": {
     "id": "36e52c6b-8809-4444-8c99-45056c0079d7"
    }
   },
   "outputs": [],
   "source": [
    "# 4 iterations ####################\n",
    "km = KMeans(init='random', n_clusters=num_clusters, verbose=1,\n",
    "            n_init=1, max_iter=20,\n",
    "            random_state=seed)\n",
    "#반복수 20번\n",
    "km.fit(sp.array(list(zip(x, y))))\n",
    "\n",
    "Z = km.predict(sp.c_[mx.ravel(), my.ravel()]).reshape(mx.shape)\n",
    "\n",
    "plot_clustering(x, y, \"Clustering iteration 20\", km=km)\n",
    "pylab.imshow(Z, interpolation='nearest',\n",
    "             extent=(mx.min(), mx.max(), my.min(), my.max()),\n",
    "             cmap=pylab.cm.Blues,\n",
    "             aspect='auto', origin='lower')\n",
    "\n",
    "c3a, c3b, c3c = km.cluster_centers_\n",
    "pylab.scatter(km.cluster_centers_[:, 0], km.cluster_centers_[:, 1],\n",
    "              marker='x', linewidth=2, s=100, color='black')\n",
    "\n",
    "#pylab.savefig(os.path.join(CHART_DIR, \"1400_03_0%i.png\" % i))\n",
    "#pylab.clf()\n",
    "pylab.show()\n",
    "#세 번 반복했을 때의 중심점이다.\n",
    "i += 1"
   ]
  },
  {
   "cell_type": "markdown",
   "metadata": {
    "collapsed": true
   },
   "source": [
    "## 2]우리의-발상을-평가하기-위한-테스트-데이터-얻기"
   ]
  },
  {
   "cell_type": "markdown",
   "metadata": {},
   "source": [
    "__군집화를 테스트하기 위해__, 간단한 텍스트 예제를 넘어 __접근법을 테스트__하기 위해 앞으로 일어날 수 있는 데이터와 유사한 데이터셋을 찾는다."
   ]
  },
  {
   "cell_type": "markdown",
   "metadata": {},
   "source": [
    "* 데이터 : 20newsgroup < train(60%), test(40%), raw >"
   ]
  },
  {
   "cell_type": "markdown",
   "metadata": {},
   "source": [
    "* news group : 20그룹\n",
    "* 게시물 수 : 18826개 "
   ]
  },
  {
   "cell_type": "markdown",
   "metadata": {},
   "source": [
    "각 뉴스 그룹이 하나의 군집이라고 가정하면, 우리의 관련 게시물을 찾는 접근법이 잘 작동하는지 멋지게 테스트할 수 있다."
   ]
  },
  {
   "cell_type": "code",
   "execution_count": null,
   "metadata": {
    "nbpresent": {
     "id": "99477056-49e0-4909-b6e7-a11ff39d65b8"
    }
   },
   "outputs": [],
   "source": [
    "import sklearn.datasets\n",
    "import scipy as sp\n",
    "\n",
    "new_post = \\\n",
    "    \"\"\"Disk drive problems. Hi, I have a problem with my hard disk.\n",
    "After 1 year it is working only sporadically now.\n",
    "I tried to format it, but now it doesn't boot any more.\n",
    "Any ideas? Thanks.\n",
    "\"\"\"\n",
    "\n",
    "all_data = sklearn.datasets.fetch_20newsgroups(subset=\"all\")\n",
    "print(\"Number of total posts: %i\" % len(all_data.filenames))\n",
    "# 총 게시물 개수 : 18846\n",
    "\n",
    "train_data = sklearn.datasets.fetch_20newsgroups(subset = 'train')\n",
    "test_data=sklearn.datasets.fetch_20newsgroups(subset='test')\n",
    "#훈련셋과 테스트셋 선택\n",
    "\n",
    "print(\"Number of training posts in tech groups:\", len(train_data.filenames))\n",
    "print(\"Number of testing posts in tech groups:\", len(test_data.filenames))"
   ]
  },
  {
   "cell_type": "markdown",
   "metadata": {},
   "source": [
    "단순하게 전체적인 실험 주기를 줄이기 위해 일부 뉴스 그룹으로 제한한다."
   ]
  },
  {
   "cell_type": "code",
   "execution_count": 106,
   "metadata": {},
   "outputs": [
    {
     "ename": "NameError",
     "evalue": "name 'sklearn' is not defined",
     "output_type": "error",
     "traceback": [
      "\u001b[1;31m------------------------------\u001b[0m",
      "\u001b[1;31mNameError\u001b[0mTraceback (most recent call last)",
      "\u001b[1;32m<ipython-input-106-4408a76069e7>\u001b[0m in \u001b[0;36m<module>\u001b[1;34m()\u001b[0m\n\u001b[0;32m      3\u001b[0m     \u001b[1;34m'comp.graphics'\u001b[0m\u001b[1;33m,\u001b[0m \u001b[1;34m'comp.os.ms-windows.misc'\u001b[0m\u001b[1;33m,\u001b[0m \u001b[1;34m'comp.sys.ibm.pc.hardware'\u001b[0m\u001b[1;33m,\u001b[0m\u001b[1;33m\u001b[0m\u001b[0m\n\u001b[0;32m      4\u001b[0m     'comp.sys.mac.hardware', 'comp.windows.x', 'sci.space']\n\u001b[1;32m----> 5\u001b[1;33m \u001b[0mall_data\u001b[0m \u001b[1;33m=\u001b[0m \u001b[0msklearn\u001b[0m\u001b[1;33m.\u001b[0m\u001b[0mdatasets\u001b[0m\u001b[1;33m.\u001b[0m\u001b[0mfetch_20newsgroups\u001b[0m\u001b[1;33m(\u001b[0m\u001b[0msubset\u001b[0m \u001b[1;33m=\u001b[0m\u001b[1;34m\"all\"\u001b[0m\u001b[1;33m,\u001b[0m\u001b[0mcategories\u001b[0m\u001b[1;33m=\u001b[0m\u001b[0mgroups\u001b[0m\u001b[1;33m)\u001b[0m\u001b[1;33m\u001b[0m\u001b[0m\n\u001b[0m\u001b[0;32m      6\u001b[0m \u001b[0mprint\u001b[0m\u001b[1;33m(\u001b[0m\u001b[1;34m\"Number of total posts: %i\"\u001b[0m \u001b[1;33m%\u001b[0m \u001b[0mlen\u001b[0m\u001b[1;33m(\u001b[0m\u001b[0mall_data\u001b[0m\u001b[1;33m.\u001b[0m\u001b[0mfilenames\u001b[0m\u001b[1;33m)\u001b[0m\u001b[1;33m)\u001b[0m\u001b[1;33m\u001b[0m\u001b[0m\n\u001b[0;32m      7\u001b[0m \u001b[1;33m\u001b[0m\u001b[0m\n",
      "\u001b[1;31mNameError\u001b[0m: name 'sklearn' is not defined"
     ]
    }
   ],
   "source": [
    "groups = [\n",
    "    'comp.graphics', 'comp.os.ms-windows.misc', 'comp.sys.ibm.pc.hardware',\n",
    "    'comp.sys.mac.hardware', 'comp.windows.x', 'sci.space']\n",
    "all_data = sklearn.datasets.fetch_20newsgroups(subset =\"all\",categories=groups)\n",
    "print(\"Number of total posts: %i\" % len(all_data.filenames))\n",
    "\n",
    "#다시 훈련셋과 테스트셋 선택\n",
    "train_data = sklearn.datasets.fetch_20newsgroups(subset = 'train',categories=groups)\n",
    "test_data=sklearn.datasets.fetch_20newsgroups(subset='test',categories=groups)\n",
    "\n",
    "print(\"Number of training posts in tech groups:\", len(train_data.filenames))\n",
    "print(\"Number of testing posts in tech groups:\", len(test_data.filenames))"
   ]
  },
  {
   "cell_type": "markdown",
   "metadata": {},
   "source": [
    "## 3]게시물-군집화"
   ]
  },
  {
   "cell_type": "code",
   "execution_count": null,
   "metadata": {
    "nbpresent": {
     "id": "f5dfcaf5-5fac-4b82-b20d-3721990e97b2"
    }
   },
   "outputs": [],
   "source": [
    "class StemmedTfidfVectorizer(TfidfVectorizer):\n",
    "\n",
    "    def build_analyzer(self):\n",
    "        analyzer = super(TfidfVectorizer, self).build_analyzer()\n",
    "        return lambda doc: (english_stemmer.stem(w) for w in analyzer(doc))\n",
    "    \n",
    "\n",
    "vectorizer = StemmedTfidfVectorizer(min_df=10, max_df=0.5,stop_words='english', decode_error='ignore' )"
   ]
  },
  {
   "cell_type": "markdown",
   "metadata": {},
   "source": [
    "실제 데이터에는 노이즈가 많다는 사실을 명심해야 한다.\n",
    "\n",
    "뉴스 그룹 데이터셋도 마찬가지이며, UnicodeDecodeError를 초래하는 유효하지 않은 문자까지도 포함되어 있다.\n",
    "\n",
    "이러한 오류를 무시하기 위해 vectorizer에 명시해야 한다."
   ]
  },
  {
   "cell_type": "code",
   "execution_count": null,
   "metadata": {
    "collapsed": true
   },
   "outputs": [],
   "source": [
    "vectorized = vectorizer.fit_transform(train_data.data)\n",
    "num_samples, num_features = vectorized.shape\n",
    "print(\"#samples: %d, #features: %d\" % (num_samples, num_features))\n",
    "# samples: 3529, #features: 4712\n",
    "#sample은 게시물, features는 속성\n",
    "\n",
    "labels = train_data.target\n",
    "num_clusters = 50  # sp.unique(labels).shape[0]\n",
    "#군집의 개수 50개"
   ]
  },
  {
   "cell_type": "code",
   "execution_count": null,
   "metadata": {
    "nbpresent": {
     "id": "abcd8a6e-a1bc-488b-a1e0-7c1de17ad239"
    }
   },
   "outputs": [],
   "source": [
    "import nltk.stem\n",
    "english_stemmer = nltk.stem.SnowballStemmer('english')\n",
    "\n",
    "from sklearn.feature_extraction.text import TfidfVectorizer\n",
    "from sklearn.cluster import KMeans\n",
    "\n",
    "km = KMeans(n_clusters=num_clusters, n_init=1, verbose=1, random_state=3)\n",
    "#같은 결과를 얻기 위해 random state를 지정했다. 하지만 실제 어플리케이션에서 이렇게 하면 안된다.\n",
    "clustered = km.fit(vectorized)\n",
    "\n",
    "print(\"km.labels_=%s\" % km.labels_)\n",
    "# km.labels_=[ 6 34 22 ...,  2 21 26]\n",
    "\n",
    "print(\"km.labels_.shape=%s\" % km.labels_.shape)\n",
    "# km.labels_.shape=3529\n",
    "\n",
    "#적합화를 마친 벡터화 게시물의 군집 라벨은 km.labels에 이쓴 상수 라벨에 해당한다.\n",
    "#군집의 중앙점은 km.cluster_centers_로 알 수 있다."
   ]
  },
  {
   "cell_type": "code",
   "execution_count": null,
   "metadata": {
    "nbpresent": {
     "id": "6c61905f-193a-4cbc-a221-e76c42117cf7"
    }
   },
   "outputs": [],
   "source": [
    "from sklearn import metrics\n",
    "print(\"Homogeneity: %0.3f\" % metrics.homogeneity_score(labels, km.labels_))\n",
    "# Homogeneity: 0.400(동질성)\n",
    "#score between 0.0 and 1.0. 1.0 stands for perfectly homogeneous labeling\n",
    "print(\"Completeness: %0.3f\" % metrics.completeness_score(labels, km.labels_))\n",
    "# Completeness: 0.206(완전성)\n",
    "#score between 0.0 and 1.0. 1.0 stands for perfectly complete labeling\n",
    "print(\"V-measure: %0.3f\" % metrics.v_measure_score(labels, km.labels_))\n",
    "# V-measure: 0.272\n",
    "#V- 척도는 실제로 레이블 엔트로피의 합으로 표준화 된 상호 정보\n",
    "#V- 척도는 동질성과 완성도 사이의 고조파 평균입니다.\n",
    "#v  =  2  *  ( 동질성  *  완전성 )  /  ( 동질성  +  완전성 )\n",
    "print(\"Adjusted Rand Index: %0.3f\" %\n",
    "      metrics.adjusted_rand_score(labels, km.labels_))\n",
    "# Adjusted Rand Index: 0.064\n",
    "#The raw RI score is then “adjusted for chance” into the ARI score using the following scheme:\n",
    "#ARI = (RI - Expected_RI) / (max(RI) - Expected_RI)\n",
    "#RI는 rand index\n",
    "print(\"Adjusted Mutual Information: %0.3f\" %\n",
    "      metrics.adjusted_mutual_info_score(labels, km.labels_))\n",
    "# Adjusted Mutual Information: 0.197\n",
    "print((\"Silhouette Coefficient: %0.3f\" %\n",
    "       metrics.silhouette_score(vectorized, labels, sample_size=1000)))\n",
    "# Silhouette Coefficient: 0.006"
   ]
  },
  {
   "cell_type": "markdown",
   "metadata": {},
   "source": [
    "모두 얼마나 잘 클러스러팅이 되었는지 확인하는 척도임!"
   ]
  },
  {
   "cell_type": "markdown",
   "metadata": {
    "collapsed": true
   },
   "source": [
    "## 4.초기-도전과제-해결"
   ]
  },
  {
   "cell_type": "code",
   "execution_count": 112,
   "metadata": {
    "nbpresent": {
     "id": "3f64eb88-88af-40e5-a357-976560601cc3"
    }
   },
   "outputs": [
    {
     "ename": "NameError",
     "evalue": "name 'km' is not defined",
     "output_type": "error",
     "traceback": [
      "\u001b[1;31m------------------------------\u001b[0m",
      "\u001b[1;31mNameError\u001b[0mTraceback (most recent call last)",
      "\u001b[1;32m<ipython-input-112-79ee72779757>\u001b[0m in \u001b[0;36m<module>\u001b[1;34m()\u001b[0m\n\u001b[0;32m      2\u001b[0m \u001b[1;33m\u001b[0m\u001b[0m\n\u001b[0;32m      3\u001b[0m \u001b[0mnew_post_vec\u001b[0m \u001b[1;33m=\u001b[0m \u001b[0mvectorizer\u001b[0m\u001b[1;33m.\u001b[0m\u001b[0mtransform\u001b[0m\u001b[1;33m(\u001b[0m\u001b[1;33m[\u001b[0m\u001b[0mnew_post\u001b[0m\u001b[1;33m]\u001b[0m\u001b[1;33m)\u001b[0m\u001b[1;33m\u001b[0m\u001b[0m\n\u001b[1;32m----> 4\u001b[1;33m \u001b[0mnew_post_label\u001b[0m \u001b[1;33m=\u001b[0m \u001b[0mkm\u001b[0m\u001b[1;33m.\u001b[0m\u001b[0mpredict\u001b[0m\u001b[1;33m(\u001b[0m\u001b[0mnew_post_vec\u001b[0m\u001b[1;33m)\u001b[0m\u001b[1;33m[\u001b[0m\u001b[1;36m0\u001b[0m\u001b[1;33m]\u001b[0m\u001b[1;33m\u001b[0m\u001b[0m\n\u001b[0m\u001b[0;32m      5\u001b[0m \u001b[1;31m#군집화를 했기 때문에, 모든 게시물 벡터와 new_post_vec를 비교할 필요가 없다.\u001b[0m\u001b[1;33m\u001b[0m\u001b[1;33m\u001b[0m\u001b[0m\n\u001b[0;32m      6\u001b[0m \u001b[1;31m#클러스터링 했던 km으로 new_post_vec의 군집을 예측하여 같은 군집에 있는 게시물만을 중점적으로 보자.\u001b[0m\u001b[1;33m\u001b[0m\u001b[1;33m\u001b[0m\u001b[0m\n",
      "\u001b[1;31mNameError\u001b[0m: name 'km' is not defined"
     ]
    }
   ],
   "source": [
    "#여기서는 km.predict를 사용해 새로운 게시물에 대해 어떻게 군집을 지정하는지 살펴볼 것이다.\n",
    "\n",
    "new_post_vec = vectorizer.transform([new_post])\n",
    "new_post_label = km.predict(new_post_vec)[0]\n",
    "#군집화를 했기 때문에, 모든 게시물 벡터와 new_post_vec를 비교할 필요가 없다.\n",
    "#클러스터링 했던 km으로 new_post_vec의 군집을 예측하여 같은 군집에 있는 게시물만을 중점적으로 보자.\n",
    "\n",
    "similar_indices = (km.labels_ == new_post_label).nonzero()[0]\n",
    "#원본 데이터셋에 있는 예측된 군집에 속하는 인덱스들만 골라내어 similar_indices에 저장한다.\n",
    "similar = []\n",
    "for i in similar_indices:\n",
    "    dist = sp.linalg.norm((new_post_vec - vectorized[i]).toarray())\n",
    "    similar.append((dist, train_data.data[i]))\n",
    "#similar에 차이를 저장한다.\n",
    "\n",
    "similar = sorted(similar)\n",
    "print(\"Count similar: %i\" % len(similar))\n",
    "#새로운 게시물에 포함하는 군집에는 131개의 게시물이 있다.\n",
    "#사용자가 어떤 종류의 유사한 게시물이 있는지 알 수 있도록 dist를 기준으로 sort된 similar를 3개로 나눈다.\n",
    "show_at_1 = similar[0]\n",
    "show_at_2 = similar[int(len(similar) / 10)]\n",
    "show_at_3 = similar[int(len(similar) / 2)]\n",
    "\n",
    "print(\"=== #1 ===\")\n",
    "print(show_at_1)\n",
    "print()\n",
    "\n",
    "print(\"=== #2 ===\")\n",
    "print(show_at_2)\n",
    "print()\n",
    "\n",
    "print(\"=== #3 ===\")\n",
    "print(show_at_3)"
   ]
  },
  {
   "cell_type": "markdown",
   "metadata": {
    "collapsed": true
   },
   "source": [
    "## 1]노이즈의 또 다른 시각"
   ]
  },
  {
   "cell_type": "markdown",
   "metadata": {},
   "source": [
    "군집화가 완벽하게 되었다고 예상할 수는 없다.\n",
    "\n",
    "같은 뉴스 그룹이 아닌 게시물과 함께 군집화되어 있다. \n",
    "\n",
    "예제는 예상해야 하는 노이즈의 영향을 받았다."
   ]
  },
  {
   "cell_type": "code",
   "execution_count": null,
   "metadata": {
    "collapsed": true,
    "nbpresent": {
     "id": "51224c84-dd13-4b0e-bb0f-1f82a818361a"
    }
   },
   "outputs": [],
   "source": [
    "import sklearn.datasets\n",
    "\n",
    "groups = [\n",
    "    'comp.graphics', 'comp.os.ms-windows.misc', 'comp.sys.ibm.pc.hardware',\n",
    "    'comp.sys.mac.hardware', 'comp.windows.x', 'sci.space']\n",
    "\n",
    "train_data = sklearn.datasets.fetch_20newsgroups(subset=\"train\",\n",
    "                                                 categories=groups)\n",
    "\n",
    "labels = train_data.target\n",
    "num_clusters = 50  # sp.unique(labels).shape[0]"
   ]
  },
  {
   "cell_type": "code",
   "execution_count": 113,
   "metadata": {
    "nbpresent": {
     "id": "3aa02457-0de4-46bf-9954-87e89131cd83"
    }
   },
   "outputs": [
    {
     "ename": "NameError",
     "evalue": "name 'train_data' is not defined",
     "output_type": "error",
     "traceback": [
      "\u001b[1;31m------------------------------\u001b[0m",
      "\u001b[1;31mNameError\u001b[0mTraceback (most recent call last)",
      "\u001b[1;32m<ipython-input-113-aa7ebfd40888>\u001b[0m in \u001b[0;36m<module>\u001b[1;34m()\u001b[0m\n\u001b[0;32m     14\u001b[0m                                     \u001b[0mstop_words\u001b[0m\u001b[1;33m=\u001b[0m\u001b[1;34m'english'\u001b[0m\u001b[1;33m,\u001b[0m \u001b[0mdecode_error\u001b[0m\u001b[1;33m=\u001b[0m\u001b[1;34m'ignore'\u001b[0m\u001b[1;33m\u001b[0m\u001b[0m\n\u001b[0;32m     15\u001b[0m                                     )\n\u001b[1;32m---> 16\u001b[1;33m \u001b[0mvectorized\u001b[0m \u001b[1;33m=\u001b[0m \u001b[0mvectorizer\u001b[0m\u001b[1;33m.\u001b[0m\u001b[0mfit_transform\u001b[0m\u001b[1;33m(\u001b[0m\u001b[0mtrain_data\u001b[0m\u001b[1;33m.\u001b[0m\u001b[0mdata\u001b[0m\u001b[1;33m)\u001b[0m\u001b[1;33m\u001b[0m\u001b[0m\n\u001b[0m\u001b[0;32m     17\u001b[0m \u001b[1;33m\u001b[0m\u001b[0m\n\u001b[0;32m     18\u001b[0m \u001b[0mpost_group\u001b[0m \u001b[1;33m=\u001b[0m \u001b[0mzip\u001b[0m\u001b[1;33m(\u001b[0m\u001b[0mtrain_data\u001b[0m\u001b[1;33m.\u001b[0m\u001b[0mdata\u001b[0m\u001b[1;33m,\u001b[0m \u001b[0mtrain_data\u001b[0m\u001b[1;33m.\u001b[0m\u001b[0mtarget\u001b[0m\u001b[1;33m)\u001b[0m\u001b[1;33m\u001b[0m\u001b[0m\n",
      "\u001b[1;31mNameError\u001b[0m: name 'train_data' is not defined"
     ]
    }
   ],
   "source": [
    "import nltk.stem\n",
    "english_stemmer = nltk.stem.SnowballStemmer('english')\n",
    "\n",
    "from sklearn.feature_extraction.text import TfidfVectorizer\n",
    "\n",
    "\n",
    "class StemmedTfidfVectorizer(TfidfVectorizer):\n",
    "\n",
    "    def build_analyzer(self):\n",
    "        analyzer = super(TfidfVectorizer, self).build_analyzer()\n",
    "        return lambda doc: (english_stemmer.stem(w) for w in analyzer(doc))\n",
    "\n",
    "vectorizer = StemmedTfidfVectorizer(min_df=10, max_df=0.5,\n",
    "                                    stop_words='english', decode_error='ignore'\n",
    "                                    )\n",
    "vectorized = vectorizer.fit_transform(train_data.data)\n",
    "\n",
    "post_group = zip(train_data.data, train_data.target)\n",
    "# 게시물 길이로 저장한 튜플 리스트를 생성\n",
    "# zip 함수는 동일한 갯수의 요소값을 갖는 시퀀스 자료형을 묶어주는 역할\n",
    "\n",
    "all = [(len(post[0]), post[0], train_data.target_names[post[1]])\n",
    "       for post in post_group]\n",
    "graphics = sorted([post for post in all if post[2] == 'comp.graphics'])\n",
    "print(graphics[5])\n",
    "\n",
    "noise_post = graphics[5][1]\n",
    "\n",
    "analyzer = vectorizer.build_analyzer()\n",
    "print(list(analyzer(noise_post)))"
   ]
  },
  {
   "cell_type": "markdown",
   "metadata": {},
   "source": [
    "이는 토큰화, 소문자로 변경, 불용어 제거 다음이다. fit_transform에서 실행될 min_df와 max_df를 통해 제거된 이러한 단어를 뺀다면 더욱 곤란해진다."
   ]
  },
  {
   "cell_type": "markdown",
   "metadata": {},
   "source": [
    "이러한 게시물에 대해, 전처리 단계 후에 남겨진 단어를 고려하여, 게시물이 comp.graphics에 속하는 실제 단서는 없다."
   ]
  },
  {
   "cell_type": "code",
   "execution_count": 45,
   "metadata": {
    "nbpresent": {
     "id": "75e0d2bd-dba1-403a-b07d-9cd5ba136d0a"
    }
   },
   "outputs": [
    {
     "ename": "NameError",
     "evalue": "name 'graphics' is not defined",
     "output_type": "error",
     "traceback": [
      "\u001b[1;31m------------------------------\u001b[0m",
      "\u001b[1;31mNameError\u001b[0mTraceback (most recent call last)",
      "\u001b[1;32m<ipython-input-45-457bcd0c2e1a>\u001b[0m in \u001b[0;36m<module>\u001b[1;34m()\u001b[0m\n\u001b[1;32m----> 1\u001b[1;33m \u001b[0mnoise_post\u001b[0m \u001b[1;33m=\u001b[0m \u001b[0mgraphics\u001b[0m\u001b[1;33m[\u001b[0m\u001b[1;36m5\u001b[0m\u001b[1;33m]\u001b[0m\u001b[1;33m[\u001b[0m\u001b[1;36m1\u001b[0m\u001b[1;33m]\u001b[0m\u001b[1;33m\u001b[0m\u001b[0m\n\u001b[0m\u001b[0;32m      2\u001b[0m \u001b[1;33m\u001b[0m\u001b[0m\n\u001b[0;32m      3\u001b[0m \u001b[0manalyzer\u001b[0m \u001b[1;33m=\u001b[0m \u001b[0mvectorizer\u001b[0m\u001b[1;33m.\u001b[0m\u001b[0mbuild_analyzer\u001b[0m\u001b[1;33m(\u001b[0m\u001b[1;33m)\u001b[0m\u001b[1;33m\u001b[0m\u001b[0m\n\u001b[0;32m      4\u001b[0m \u001b[0mprint\u001b[0m\u001b[1;33m(\u001b[0m\u001b[0mlist\u001b[0m\u001b[1;33m(\u001b[0m\u001b[0manalyzer\u001b[0m\u001b[1;33m(\u001b[0m\u001b[0mnoise_post\u001b[0m\u001b[1;33m)\u001b[0m\u001b[1;33m)\u001b[0m\u001b[1;33m)\u001b[0m\u001b[1;33m\u001b[0m\u001b[0m\n\u001b[0;32m      5\u001b[0m \u001b[1;33m\u001b[0m\u001b[0m\n",
      "\u001b[1;31mNameError\u001b[0m: name 'graphics' is not defined"
     ]
    }
   ],
   "source": [
    "useful = set(analyzer(noise_post)).intersection(vectorizer.get_feature_names())\n",
    "print(sorted(useful))\n",
    "# ['ac', 'birmingham', 'host', 'kingdom', 'nntp', 'sorri', 'test', 'uk', 'unit', 'univers']"
   ]
  },
  {
   "cell_type": "code",
   "execution_count": null,
   "metadata": {
    "collapsed": true
   },
   "outputs": [],
   "source": [
    "for term in sorted(useful):\n",
    "    print('IDF(%s)=%.2f' % (term,\n",
    "                            vectorizer._tfidf.idf_[vectorizer.vocabulary_[term]]))\n",
    "# IDF(ac)=3.51\n",
    "# IDF(birmingham)=6.77\n",
    "# IDF(host)=1.74\n",
    "# IDF(kingdom)=6.68\n",
    "# IDF(nntp)=1.77\n",
    "# IDF(sorri)=4.14\n",
    "# IDF(test)=3.83\n",
    "# IDF(uk)=3.70\n",
    "# IDF(unit)=4.42\n",
    "# IDF(univers)=1.91"
   ]
  },
  {
   "cell_type": "markdown",
   "metadata": {},
   "source": [
    "가장 구별력이 높은 용어는 birmingham, kingdom이다.\n",
    "\n",
    "우리의 목은 새로운 게시물과 비교해야 하는 게시물의 수를 줄이는 데 관심이 있다.\n",
    "\n",
    "훈련 데이터에서 나온 특정 뉴스 그룹은 특별한 흥미점이 없다."
   ]
  },
  {
   "cell_type": "markdown",
   "metadata": {},
   "source": [
    "## 5.매개변수-변경"
   ]
  },
  {
   "cell_type": "markdown",
   "metadata": {},
   "source": [
    "좋은 결과를 얻기 위해 모든 매개변수를 변경할 수 있다.\n",
    "\n",
    "ex> 군집의 개수, vectorizer의 max_features 매개변수, 다른 군집 중심점 초기화, k평균의 대체\n",
    "\n",
    "* K평균의 대체에 대해서는 좀 더 흥미롭다.\n",
    "\n",
    "=>코사인 유사도, 피어슨, 자카드 같은 유사도 측정을 사용하는 군집 접근법이 있다."
   ]
  },
  {
   "cell_type": "markdown",
   "metadata": {},
   "source": [
    "* sklearn.metrics 패키지는 군집의 질을 측정하기 위해 모든 범위의 다양한 측정법을 가지고 있다."
   ]
  },
  {
   "cell_type": "markdown",
   "metadata": {},
   "source": [
    "## 6.정리"
   ]
  },
  {
   "cell_type": "markdown",
   "metadata": {},
   "source": [
    "__<전체 작업>__\n",
    "\n",
    "* 전처리\n",
    "* 군집화\n",
    "* 해결책\n",
    "\n",
    "__<이 장에서 배운 것>__\n",
    "\n",
    "* 노이즈한 텍스트를 군집화할 수 있도록 의미 있는 정확한 벡터 표현으로 변환했다.\n",
    "* 텍스트 처리\n",
    "* 단순한 단어 세기가 노이즈한 실제 세계 데이터를 어떻게 변환하는지도 배웠다."
   ]
  }
 ],
 "metadata": {
  "anaconda-cloud": {},
  "kernelspec": {
   "display_name": "Python 3",
   "language": "python",
   "name": "python3"
  },
  "language_info": {
   "codemirror_mode": {
    "name": "ipython",
    "version": 3
   },
   "file_extension": ".py",
   "mimetype": "text/x-python",
   "name": "python",
   "nbconvert_exporter": "python",
   "pygments_lexer": "ipython3",
   "version": "3.5.3"
  },
  "nbpresent": {
   "slides": {
    "0eee62a0-b0d7-46f4-9a22-ef11968b54d4": {
     "id": "0eee62a0-b0d7-46f4-9a22-ef11968b54d4",
     "prev": "cdd6d47f-a006-4b78-8c21-6a5c6cb5011c",
     "regions": {
      "1bd25d37-cd60-4f1c-ab52-71ab4fc59fa5": {
       "attrs": {
        "height": 0.8,
        "width": 0.8,
        "x": 0.1,
        "y": 0.1
       },
       "content": {
        "cell": "36e52c6b-8809-4444-8c99-45056c0079d7",
        "part": "whole"
       },
       "id": "1bd25d37-cd60-4f1c-ab52-71ab4fc59fa5"
      }
     }
    },
    "0fda62f3-beab-4e45-9a14-032945a1d16e": {
     "id": "0fda62f3-beab-4e45-9a14-032945a1d16e",
     "prev": "9924b625-78d1-48b3-96fd-f3ecc52abff1",
     "regions": {
      "eb97cd83-905f-489f-badc-339b796791f8": {
       "attrs": {
        "height": 0.8,
        "width": 0.8,
        "x": 0.1,
        "y": 0.1
       },
       "content": {
        "cell": "e3cdd8b2-79b9-48a1-ac83-713209fd71fb",
        "part": "whole"
       },
       "id": "eb97cd83-905f-489f-badc-339b796791f8"
      }
     }
    },
    "11b0b827-741d-4fcf-a66a-46f0c722c055": {
     "id": "11b0b827-741d-4fcf-a66a-46f0c722c055",
     "prev": "40a74cb1-eef9-4191-966f-98fd6edc0601",
     "regions": {
      "c9db6e58-2790-4f7f-abe7-056c157784a8": {
       "attrs": {
        "height": 0.8,
        "width": 0.8,
        "x": 0.1,
        "y": 0.1
       },
       "content": {
        "cell": "e9cbb876-2cef-41be-ba0a-e2f5fd35c31d",
        "part": "whole"
       },
       "id": "c9db6e58-2790-4f7f-abe7-056c157784a8"
      }
     }
    },
    "14b9d280-a0c9-46cf-bb9a-5a1bd1d158b9": {
     "id": "14b9d280-a0c9-46cf-bb9a-5a1bd1d158b9",
     "prev": "0fda62f3-beab-4e45-9a14-032945a1d16e",
     "regions": {
      "8b8f956b-4d14-458e-be29-e59389e68549": {
       "attrs": {
        "height": 0.8,
        "width": 0.8,
        "x": 0.1,
        "y": 0.1
       },
       "content": {
        "cell": "83038bad-50e3-4c21-86fd-88b61eefada5",
        "part": "whole"
       },
       "id": "8b8f956b-4d14-458e-be29-e59389e68549"
      }
     }
    },
    "15c34a47-24a8-48eb-9c87-38efa5ad7eb7": {
     "id": "15c34a47-24a8-48eb-9c87-38efa5ad7eb7",
     "prev": "ad3d3273-1e64-46b4-847a-071f9d618735",
     "regions": {
      "09e5e7d3-df53-455f-acf5-abf51c6d1bb1": {
       "attrs": {
        "height": 0.8,
        "width": 0.8,
        "x": 0.1,
        "y": 0.1
       },
       "content": {
        "cell": "77528fda-4ec3-4a38-9afd-b7fa07485ea2",
        "part": "whole"
       },
       "id": "09e5e7d3-df53-455f-acf5-abf51c6d1bb1"
      }
     }
    },
    "19e42903-65ac-4fce-9042-5a1cf3bc390e": {
     "id": "19e42903-65ac-4fce-9042-5a1cf3bc390e",
     "prev": "662fb212-542c-4c76-811d-649d68cf9f5b",
     "regions": {
      "a307a0a9-c4df-4879-b7b1-de722665cfc5": {
       "attrs": {
        "height": 0.8,
        "width": 0.8,
        "x": 0.1,
        "y": 0.1
       },
       "content": {
        "cell": "e33a881c-3758-4171-8a2a-9773cb68f37c",
        "part": "whole"
       },
       "id": "a307a0a9-c4df-4879-b7b1-de722665cfc5"
      }
     }
    },
    "2ff936d5-ce6b-4459-856d-77c85e9de447": {
     "id": "2ff936d5-ce6b-4459-856d-77c85e9de447",
     "prev": "15c34a47-24a8-48eb-9c87-38efa5ad7eb7",
     "regions": {
      "46d61976-b35d-4859-ad87-52852ebedd5d": {
       "attrs": {
        "height": 0.8,
        "width": 0.8,
        "x": 0.1,
        "y": 0.1
       },
       "content": {
        "cell": "7c84ccf3-1fa9-46ed-87fc-21fd1d5539a2",
        "part": "whole"
       },
       "id": "46d61976-b35d-4859-ad87-52852ebedd5d"
      }
     }
    },
    "325f014f-ea79-4c5c-acfe-ac1b01ef4608": {
     "id": "325f014f-ea79-4c5c-acfe-ac1b01ef4608",
     "prev": "5e15e00a-3ff0-4dc6-ac80-594e1962996d",
     "regions": {
      "1685a411-9956-4c36-91e0-d9422f23623c": {
       "attrs": {
        "height": 0.8,
        "width": 0.8,
        "x": 0.1,
        "y": 0.1
       },
       "content": {
        "cell": "dab704a9-129f-41cd-bc33-22609cf998fd",
        "part": "whole"
       },
       "id": "1685a411-9956-4c36-91e0-d9422f23623c"
      }
     }
    },
    "331409f8-40fc-407c-a58e-0ba7ccbdbdec": {
     "id": "331409f8-40fc-407c-a58e-0ba7ccbdbdec",
     "prev": "6cca090a-07af-43f7-b06f-6494abecc8a9",
     "regions": {
      "173d7566-2b74-4980-860b-4d8d4e95c45e": {
       "attrs": {
        "height": 0.8,
        "width": 0.8,
        "x": 0.1,
        "y": 0.1
       },
       "id": "173d7566-2b74-4980-860b-4d8d4e95c45e"
      },
      "52da893e-0d43-4f1e-88b6-cb1a4b50e0ee": {
       "attrs": {
        "height": 0.8,
        "width": 0.8,
        "x": 0.1,
        "y": 0.1
       },
       "content": {
        "cell": "ac164ce7-802e-4478-9b07-70abb79a9d4e",
        "part": "whole"
       },
       "id": "52da893e-0d43-4f1e-88b6-cb1a4b50e0ee"
      }
     }
    },
    "3e88e9af-5af4-4ef5-aa9c-3b9d72b5cc9b": {
     "id": "3e88e9af-5af4-4ef5-aa9c-3b9d72b5cc9b",
     "prev": "6d7e0785-c8a6-4114-9d12-46e7553af893",
     "regions": {
      "32b6f6f9-7f04-4b93-8add-9232f9034840": {
       "attrs": {
        "height": 0.8,
        "width": 0.8,
        "x": 0.1,
        "y": 0.1
       },
       "content": {
        "cell": "8ff0a8c9-71be-4778-aac6-afdf3f13c785",
        "part": "whole"
       },
       "id": "32b6f6f9-7f04-4b93-8add-9232f9034840"
      }
     }
    },
    "40a74cb1-eef9-4191-966f-98fd6edc0601": {
     "id": "40a74cb1-eef9-4191-966f-98fd6edc0601",
     "prev": "3e88e9af-5af4-4ef5-aa9c-3b9d72b5cc9b",
     "regions": {
      "b0ba131e-c96a-40bb-841b-7f16b16a2251": {
       "attrs": {
        "height": 0.8,
        "width": 0.8,
        "x": 0.1,
        "y": 0.1
       },
       "content": {
        "cell": "52a6ca72-5552-4c1f-9b09-9411c3857631",
        "part": "whole"
       },
       "id": "b0ba131e-c96a-40bb-841b-7f16b16a2251"
      }
     }
    },
    "4733b8de-bb90-472d-800a-24d288edbaa2": {
     "id": "4733b8de-bb90-472d-800a-24d288edbaa2",
     "prev": "629358c6-12ba-4bb9-846d-4811cb10550f",
     "regions": {
      "b080cc82-5cfb-476d-b8f8-930395cf8dc2": {
       "attrs": {
        "height": 0.8,
        "width": 0.8,
        "x": 0.1,
        "y": 0.1
       },
       "content": {
        "cell": "abcd8a6e-a1bc-488b-a1e0-7c1de17ad239",
        "part": "whole"
       },
       "id": "b080cc82-5cfb-476d-b8f8-930395cf8dc2"
      }
     }
    },
    "47f2eff2-5e71-40de-b12e-8e5588aa4764": {
     "id": "47f2eff2-5e71-40de-b12e-8e5588aa4764",
     "prev": "325f014f-ea79-4c5c-acfe-ac1b01ef4608",
     "regions": {
      "adb79653-867e-4945-9d9e-de5d00436442": {
       "attrs": {
        "height": 0.8,
        "width": 0.8,
        "x": 0.1,
        "y": 0.1
       },
       "content": {
        "cell": "3f64eb88-88af-40e5-a357-976560601cc3",
        "part": "whole"
       },
       "id": "adb79653-867e-4945-9d9e-de5d00436442"
      }
     }
    },
    "4a13179e-bbd8-4938-9a10-e8ce43ecd0cc": {
     "id": "4a13179e-bbd8-4938-9a10-e8ce43ecd0cc",
     "prev": "ea8f34ed-0df4-4b83-9845-decdd33595a7",
     "regions": {
      "c99d3349-2739-4db8-9c43-c15f66f59a4d": {
       "attrs": {
        "height": 0.8,
        "width": 0.8,
        "x": 0.1,
        "y": 0.1
       },
       "content": {
        "cell": "3aa02457-0de4-46bf-9954-87e89131cd83",
        "part": "whole"
       },
       "id": "c99d3349-2739-4db8-9c43-c15f66f59a4d"
      }
     }
    },
    "4ab24ef6-4f6e-43d2-ab34-a31c235fe573": {
     "id": "4ab24ef6-4f6e-43d2-ab34-a31c235fe573",
     "prev": "ba30b872-9dc0-4351-8b66-cb8528242e69",
     "regions": {
      "810f7a7f-5476-4793-ac73-736baf8e87af": {
       "attrs": {
        "height": 0.8,
        "width": 0.8,
        "x": 0.1,
        "y": 0.1
       },
       "content": {
        "cell": "6744415e-f1a6-4233-9a0e-4e63176f18c7",
        "part": "whole"
       },
       "id": "810f7a7f-5476-4793-ac73-736baf8e87af"
      }
     }
    },
    "5e15e00a-3ff0-4dc6-ac80-594e1962996d": {
     "id": "5e15e00a-3ff0-4dc6-ac80-594e1962996d",
     "prev": "4733b8de-bb90-472d-800a-24d288edbaa2",
     "regions": {
      "52669ca8-2846-4349-b5a3-ab6893a317e2": {
       "attrs": {
        "height": 0.8,
        "width": 0.8,
        "x": 0.1,
        "y": 0.1
       },
       "content": {
        "cell": "6c61905f-193a-4cbc-a221-e76c42117cf7",
        "part": "whole"
       },
       "id": "52669ca8-2846-4349-b5a3-ab6893a317e2"
      }
     }
    },
    "629358c6-12ba-4bb9-846d-4811cb10550f": {
     "id": "629358c6-12ba-4bb9-846d-4811cb10550f",
     "prev": "19e42903-65ac-4fce-9042-5a1cf3bc390e",
     "regions": {
      "d70566cf-7598-43bd-9d2f-1d18fd7a69a9": {
       "attrs": {
        "height": 0.8,
        "width": 0.8,
        "x": 0.1,
        "y": 0.1
       },
       "content": {
        "cell": "f5dfcaf5-5fac-4b82-b20d-3721990e97b2",
        "part": "whole"
       },
       "id": "d70566cf-7598-43bd-9d2f-1d18fd7a69a9"
      }
     }
    },
    "65b1c95c-76b5-4514-9a36-b5a80b607fb9": {
     "id": "65b1c95c-76b5-4514-9a36-b5a80b607fb9",
     "prev": "0eee62a0-b0d7-46f4-9a22-ef11968b54d4",
     "regions": {
      "2f8274d4-3728-4c74-bb36-89aefe5f00bf": {
       "attrs": {
        "height": 0.8,
        "width": 0.8,
        "x": 0.1,
        "y": 0.1
       },
       "content": {
        "cell": "cad692f8-5dcb-4309-88b2-5b2580c83d56",
        "part": "whole"
       },
       "id": "2f8274d4-3728-4c74-bb36-89aefe5f00bf"
      }
     }
    },
    "662fb212-542c-4c76-811d-649d68cf9f5b": {
     "id": "662fb212-542c-4c76-811d-649d68cf9f5b",
     "prev": "ec22907a-a47e-499b-8188-58317ccdd3c7",
     "regions": {
      "61f07ba5-b139-4585-a9e3-e43564f8ebf5": {
       "attrs": {
        "height": 0.8,
        "width": 0.8,
        "x": 0.1,
        "y": 0.1
       },
       "content": {
        "cell": "21574961-93d3-4b44-8230-f038bf60c08c",
        "part": "whole"
       },
       "id": "61f07ba5-b139-4585-a9e3-e43564f8ebf5"
      }
     }
    },
    "6cca090a-07af-43f7-b06f-6494abecc8a9": {
     "id": "6cca090a-07af-43f7-b06f-6494abecc8a9",
     "prev": "9a8804a5-dfa0-4f9f-b579-7cc1d6a4a493",
     "regions": {
      "291a256f-359a-4fdf-967f-b325fe2f3a3f": {
       "attrs": {
        "height": 0.8,
        "width": 0.8,
        "x": 0.1,
        "y": 0.1
       },
       "content": {
        "cell": "0385b808-d5e2-4f5e-a098-389374065e4d",
        "part": "whole"
       },
       "id": "291a256f-359a-4fdf-967f-b325fe2f3a3f"
      }
     }
    },
    "6d7e0785-c8a6-4114-9d12-46e7553af893": {
     "id": "6d7e0785-c8a6-4114-9d12-46e7553af893",
     "prev": "2ff936d5-ce6b-4459-856d-77c85e9de447",
     "regions": {
      "04bd4f3d-c2f3-4a84-9e19-31e24796f0ee": {
       "attrs": {
        "height": 0.8,
        "width": 0.8,
        "x": 0.1,
        "y": 0.1
       },
       "content": {
        "cell": "934bc340-0853-4ec0-9b11-371beea53351",
        "part": "whole"
       },
       "id": "04bd4f3d-c2f3-4a84-9e19-31e24796f0ee"
      }
     }
    },
    "71101ea2-6f91-460b-8445-e242ad5f86c4": {
     "id": "71101ea2-6f91-460b-8445-e242ad5f86c4",
     "prev": "e52acc61-2723-41e2-a3aa-693a21cb7a93",
     "regions": {
      "89c03f16-e5a0-44d4-94f7-7d17c923127d": {
       "attrs": {
        "height": 0.8,
        "width": 0.8,
        "x": 0.1,
        "y": 0.1
       },
       "content": {
        "cell": "72f08c63-1098-4d40-b525-e42fc9554dab",
        "part": "whole"
       },
       "id": "89c03f16-e5a0-44d4-94f7-7d17c923127d"
      }
     }
    },
    "7ffbc97b-7f1b-4d74-ab93-6dbe98ae2830": {
     "id": "7ffbc97b-7f1b-4d74-ab93-6dbe98ae2830",
     "prev": "71101ea2-6f91-460b-8445-e242ad5f86c4",
     "regions": {
      "c205bf88-cca4-4b36-94bb-38f13ef4879b": {
       "attrs": {
        "height": 0.8,
        "width": 0.8,
        "x": 0.1,
        "y": 0.1
       },
       "content": {
        "cell": "7f12cabd-97c2-49b2-bcd9-e86d385aaed2",
        "part": "whole"
       },
       "id": "c205bf88-cca4-4b36-94bb-38f13ef4879b"
      }
     }
    },
    "89e1b35d-8a2c-4f9b-945f-5a1a2496ac78": {
     "id": "89e1b35d-8a2c-4f9b-945f-5a1a2496ac78",
     "prev": "df5ca02f-1e14-4f51-acaa-4b4800450b18",
     "regions": {
      "e0af3bdf-a3da-4612-bf97-f31a9667230c": {
       "attrs": {
        "height": 0.8,
        "width": 0.8,
        "x": 0.1,
        "y": 0.1
       },
       "content": {
        "cell": "c407dc01-8a75-4566-8568-ad6f5ec90d78",
        "part": "whole"
       },
       "id": "e0af3bdf-a3da-4612-bf97-f31a9667230c"
      }
     }
    },
    "8e50dc94-cde5-4f9b-a074-8914572b09c5": {
     "id": "8e50dc94-cde5-4f9b-a074-8914572b09c5",
     "prev": "b565faec-c0e1-4714-a3bf-7ccbd71c4832",
     "regions": {
      "48d53a6a-a977-42c7-bc4a-db8c2c61741f": {
       "attrs": {
        "height": 0.8,
        "width": 0.8,
        "x": 0.1,
        "y": 0.1
       },
       "content": {
        "cell": "57cf6e9c-c71d-4941-ada9-565959fed4fa",
        "part": "whole"
       },
       "id": "48d53a6a-a977-42c7-bc4a-db8c2c61741f"
      }
     }
    },
    "9924b625-78d1-48b3-96fd-f3ecc52abff1": {
     "id": "9924b625-78d1-48b3-96fd-f3ecc52abff1",
     "prev": "331409f8-40fc-407c-a58e-0ba7ccbdbdec",
     "regions": {
      "91316bf6-2c66-473a-88ec-afcbb7dc5169": {
       "attrs": {
        "height": 0.8,
        "width": 0.8,
        "x": 0.1,
        "y": 0.1
       },
       "content": {
        "cell": "625d369b-aaf2-4225-8576-8047f79d0206",
        "part": "whole"
       },
       "id": "91316bf6-2c66-473a-88ec-afcbb7dc5169"
      }
     }
    },
    "99ebdccd-40a9-4658-a98c-00898798ab57": {
     "id": "99ebdccd-40a9-4658-a98c-00898798ab57",
     "prev": "d54123c0-8c54-4dab-a5ce-ae1d1750294f",
     "regions": {
      "f42fe6a6-5bcd-43f0-b7e3-103a0f658c66": {
       "attrs": {
        "height": 0.8,
        "width": 0.8,
        "x": 0.1,
        "y": 0.1
       },
       "content": {
        "cell": "cdcc7f58-ca08-4576-a2ad-6979fd775f71",
        "part": "whole"
       },
       "id": "f42fe6a6-5bcd-43f0-b7e3-103a0f658c66"
      }
     }
    },
    "9a8804a5-dfa0-4f9f-b579-7cc1d6a4a493": {
     "id": "9a8804a5-dfa0-4f9f-b579-7cc1d6a4a493",
     "prev": "e015f332-9cef-4566-9ccb-a44cde4fa9d9",
     "regions": {
      "602f4ac1-11c6-40aa-8273-8e6444b31520": {
       "attrs": {
        "height": 0.8,
        "width": 0.8,
        "x": 0.1,
        "y": 0.1
       },
       "content": {
        "cell": "073fe9b3-7339-4f3d-b9db-9d6182efe851",
        "part": "whole"
       },
       "id": "602f4ac1-11c6-40aa-8273-8e6444b31520"
      }
     }
    },
    "9c6f2143-6637-4c2c-9a5d-58c5e61d2d92": {
     "id": "9c6f2143-6637-4c2c-9a5d-58c5e61d2d92",
     "prev": "be08c53c-f541-4a48-9c80-4c8bd1441f56",
     "regions": {
      "74086099-fa01-4032-9215-3ce58e48c891": {
       "attrs": {
        "height": 0.8,
        "width": 0.8,
        "x": 0.1,
        "y": 0.1
       },
       "content": {
        "cell": "54b676b6-3375-45b9-af3c-6bdfed724639",
        "part": "whole"
       },
       "id": "74086099-fa01-4032-9215-3ce58e48c891"
      }
     }
    },
    "ad3d3273-1e64-46b4-847a-071f9d618735": {
     "id": "ad3d3273-1e64-46b4-847a-071f9d618735",
     "prev": null,
     "regions": {
      "65dec5f3-9e18-42c7-8726-171eb5f287e0": {
       "attrs": {
        "height": 0.8,
        "width": 0.8,
        "x": 0.1,
        "y": 0.1
       },
       "content": {
        "cell": "5ef50158-a652-43a0-aba3-5369e25980d1",
        "part": "whole"
       },
       "id": "65dec5f3-9e18-42c7-8726-171eb5f287e0"
      }
     }
    },
    "b4b3555c-a047-4536-8445-6295cc95b400": {
     "id": "b4b3555c-a047-4536-8445-6295cc95b400",
     "prev": "ea0b0ca6-17ee-4899-ad63-07f1c8f8bbc5",
     "regions": {
      "ac0dead5-5529-440b-843f-469bef98a5e5": {
       "attrs": {
        "height": 0.8,
        "width": 0.8,
        "x": 0.1,
        "y": 0.1
       },
       "content": {
        "cell": "f0e9842d-05a0-473d-bcd2-3783b526bdfe",
        "part": "whole"
       },
       "id": "ac0dead5-5529-440b-843f-469bef98a5e5"
      }
     }
    },
    "b565faec-c0e1-4714-a3bf-7ccbd71c4832": {
     "id": "b565faec-c0e1-4714-a3bf-7ccbd71c4832",
     "prev": "7ffbc97b-7f1b-4d74-ab93-6dbe98ae2830",
     "regions": {
      "474a4fef-5f46-4057-a1d1-05560e3f5b0a": {
       "attrs": {
        "height": 0.8,
        "width": 0.8,
        "x": 0.1,
        "y": 0.1
       },
       "content": {
        "cell": "fcf189d0-953f-4516-8160-fcc370bbb054",
        "part": "whole"
       },
       "id": "474a4fef-5f46-4057-a1d1-05560e3f5b0a"
      }
     }
    },
    "ba30b872-9dc0-4351-8b66-cb8528242e69": {
     "id": "ba30b872-9dc0-4351-8b66-cb8528242e69",
     "prev": "89e1b35d-8a2c-4f9b-945f-5a1a2496ac78",
     "regions": {
      "bbb6c355-3671-4c0e-9d7a-10d04c78d671": {
       "attrs": {
        "height": 0.8,
        "width": 0.8,
        "x": 0.1,
        "y": 0.1
       },
       "content": {
        "cell": "bf1de6df-bb94-413b-9ce7-29106f745904",
        "part": "whole"
       },
       "id": "bbb6c355-3671-4c0e-9d7a-10d04c78d671"
      }
     }
    },
    "be08c53c-f541-4a48-9c80-4c8bd1441f56": {
     "id": "be08c53c-f541-4a48-9c80-4c8bd1441f56",
     "prev": "ebc85f82-41e3-4d87-b383-cb022df99d46",
     "regions": {
      "b0ee2e4e-8d30-4d85-aecf-9f9d86306eae": {
       "attrs": {
        "height": 0.8,
        "width": 0.8,
        "x": 0.1,
        "y": 0.1
       },
       "content": {
        "cell": "b30afa6f-285e-4f6b-888f-1e8d1d4ba5d1",
        "part": "whole"
       },
       "id": "b0ee2e4e-8d30-4d85-aecf-9f9d86306eae"
      }
     }
    },
    "cdd6d47f-a006-4b78-8c21-6a5c6cb5011c": {
     "id": "cdd6d47f-a006-4b78-8c21-6a5c6cb5011c",
     "prev": "99ebdccd-40a9-4658-a98c-00898798ab57",
     "regions": {
      "b64ce615-3688-46ee-b1da-b1dcc4cc68bb": {
       "attrs": {
        "height": 0.8,
        "width": 0.8,
        "x": 0.1,
        "y": 0.1
       },
       "content": {
        "cell": "0a8885a3-2490-4958-a4c8-f0eb6133c863",
        "part": "whole"
       },
       "id": "b64ce615-3688-46ee-b1da-b1dcc4cc68bb"
      }
     }
    },
    "d54123c0-8c54-4dab-a5ce-ae1d1750294f": {
     "id": "d54123c0-8c54-4dab-a5ce-ae1d1750294f",
     "prev": "4ab24ef6-4f6e-43d2-ab34-a31c235fe573",
     "regions": {
      "ff188d6f-8569-45db-b596-f6bc0cd4cfb7": {
       "attrs": {
        "height": 0.8,
        "width": 0.8,
        "x": 0.1,
        "y": 0.1
       },
       "content": {
        "cell": "20f5df50-29a8-428d-9b2a-485cbdcbd18c",
        "part": "whole"
       },
       "id": "ff188d6f-8569-45db-b596-f6bc0cd4cfb7"
      }
     }
    },
    "ddf4ac9b-2229-4c58-91cc-acce589a5d26": {
     "id": "ddf4ac9b-2229-4c58-91cc-acce589a5d26",
     "prev": "f8602ce2-c810-489c-97e8-50aa7e5f66ac",
     "regions": {
      "d8fb8574-7c03-48d5-a1fa-717d395dab27": {
       "attrs": {
        "height": 0.8,
        "width": 0.8,
        "x": 0.1,
        "y": 0.1
       },
       "content": {
        "cell": "77000be5-b3e6-40d3-840a-dc8c191b0683",
        "part": "whole"
       },
       "id": "d8fb8574-7c03-48d5-a1fa-717d395dab27"
      }
     }
    },
    "df5ca02f-1e14-4f51-acaa-4b4800450b18": {
     "id": "df5ca02f-1e14-4f51-acaa-4b4800450b18",
     "prev": "14b9d280-a0c9-46cf-bb9a-5a1bd1d158b9",
     "regions": {
      "b0912786-a439-4950-9129-3069c029e430": {
       "attrs": {
        "height": 0.8,
        "width": 0.8,
        "x": 0.1,
        "y": 0.1
       },
       "content": {
        "cell": "816ba44b-b124-4a52-af9e-d5b4037c37b4",
        "part": "whole"
       },
       "id": "b0912786-a439-4950-9129-3069c029e430"
      }
     }
    },
    "e015f332-9cef-4566-9ccb-a44cde4fa9d9": {
     "id": "e015f332-9cef-4566-9ccb-a44cde4fa9d9",
     "prev": "8e50dc94-cde5-4f9b-a074-8914572b09c5",
     "regions": {
      "630ff38b-52c9-44d1-b1fb-19c8c2ac6c6b": {
       "attrs": {
        "height": 0.8,
        "width": 0.8,
        "x": 0.1,
        "y": 0.1
       },
       "content": {
        "cell": "d84633e8-5ddb-4cd6-9954-54e3775e801c",
        "part": "whole"
       },
       "id": "630ff38b-52c9-44d1-b1fb-19c8c2ac6c6b"
      }
     }
    },
    "e1f5adb4-5391-4f26-8e29-9b5d905e57db": {
     "id": "e1f5adb4-5391-4f26-8e29-9b5d905e57db",
     "prev": "47f2eff2-5e71-40de-b12e-8e5588aa4764",
     "regions": {
      "559ffee4-bc85-4948-9f94-d7cad200e23f": {
       "attrs": {
        "height": 0.8,
        "width": 0.8,
        "x": 0.1,
        "y": 0.1
       },
       "content": {
        "cell": "183d1d9e-0c3e-4996-ac3d-edc197c81151",
        "part": "whole"
       },
       "id": "559ffee4-bc85-4948-9f94-d7cad200e23f"
      }
     }
    },
    "e52acc61-2723-41e2-a3aa-693a21cb7a93": {
     "id": "e52acc61-2723-41e2-a3aa-693a21cb7a93",
     "prev": "ddf4ac9b-2229-4c58-91cc-acce589a5d26",
     "regions": {
      "3cea8a11-a076-4c68-b548-8a8aa63c5914": {
       "attrs": {
        "height": 0.8,
        "width": 0.8,
        "x": 0.1,
        "y": 0.1
       },
       "content": {
        "cell": "29d41c86-e0f0-4db9-a4d2-7ac2e8d17bab",
        "part": "whole"
       },
       "id": "3cea8a11-a076-4c68-b548-8a8aa63c5914"
      }
     }
    },
    "ea0b0ca6-17ee-4899-ad63-07f1c8f8bbc5": {
     "id": "ea0b0ca6-17ee-4899-ad63-07f1c8f8bbc5",
     "prev": "11b0b827-741d-4fcf-a66a-46f0c722c055",
     "regions": {
      "e02521a5-a6c4-43d1-b6e2-e3fa29a8b1be": {
       "attrs": {
        "height": 0.8,
        "width": 0.8,
        "x": 0.1,
        "y": 0.1
       },
       "content": {
        "cell": "ad27542a-5600-4d7b-a01d-c2729fe7dff4",
        "part": "whole"
       },
       "id": "e02521a5-a6c4-43d1-b6e2-e3fa29a8b1be"
      }
     }
    },
    "ea8f34ed-0df4-4b83-9845-decdd33595a7": {
     "id": "ea8f34ed-0df4-4b83-9845-decdd33595a7",
     "prev": "e1f5adb4-5391-4f26-8e29-9b5d905e57db",
     "regions": {
      "179cf4e1-7a43-4d4d-a0bf-7038cb9978e5": {
       "attrs": {
        "height": 0.8,
        "width": 0.8,
        "x": 0.1,
        "y": 0.1
       },
       "content": {
        "cell": "51224c84-dd13-4b0e-bb0f-1f82a818361a",
        "part": "whole"
       },
       "id": "179cf4e1-7a43-4d4d-a0bf-7038cb9978e5"
      }
     }
    },
    "ebc85f82-41e3-4d87-b383-cb022df99d46": {
     "id": "ebc85f82-41e3-4d87-b383-cb022df99d46",
     "prev": "b4b3555c-a047-4536-8445-6295cc95b400",
     "regions": {
      "6b964372-d674-42b8-9706-5f26d5f7afe5": {
       "attrs": {
        "height": 0.8,
        "width": 0.8,
        "x": 0.1,
        "y": 0.1
       },
       "content": {
        "cell": "d32db0b4-ccf7-4901-a39b-2920d5802488",
        "part": "whole"
       },
       "id": "6b964372-d674-42b8-9706-5f26d5f7afe5"
      }
     }
    },
    "ec22907a-a47e-499b-8188-58317ccdd3c7": {
     "id": "ec22907a-a47e-499b-8188-58317ccdd3c7",
     "prev": "65b1c95c-76b5-4514-9a36-b5a80b607fb9",
     "regions": {
      "86870761-2f1e-4b1c-942c-a4fdeac487af": {
       "attrs": {
        "height": 0.8,
        "width": 0.8,
        "x": 0.1,
        "y": 0.1
       },
       "content": {
        "cell": "99477056-49e0-4909-b6e7-a11ff39d65b8",
        "part": "whole"
       },
       "id": "86870761-2f1e-4b1c-942c-a4fdeac487af"
      }
     }
    },
    "f8602ce2-c810-489c-97e8-50aa7e5f66ac": {
     "id": "f8602ce2-c810-489c-97e8-50aa7e5f66ac",
     "prev": "9c6f2143-6637-4c2c-9a5d-58c5e61d2d92",
     "regions": {
      "afdd805e-a617-4807-ad72-70a91733ea65": {
       "attrs": {
        "height": 0.8,
        "width": 0.8,
        "x": 0.1,
        "y": 0.1
       },
       "content": {
        "cell": "2c3fd9d0-a25c-4f00-88c3-f3fea933388c",
        "part": "whole"
       },
       "id": "afdd805e-a617-4807-ad72-70a91733ea65"
      }
     }
    },
    "ff94abfe-7a26-4966-88e2-6fcd6d6b8d84": {
     "id": "ff94abfe-7a26-4966-88e2-6fcd6d6b8d84",
     "prev": "4a13179e-bbd8-4938-9a10-e8ce43ecd0cc",
     "regions": {
      "497be850-03d1-4b64-a741-14f8e6623c3d": {
       "attrs": {
        "height": 0.8,
        "width": 0.8,
        "x": 0.1,
        "y": 0.1
       },
       "content": {
        "cell": "75e0d2bd-dba1-403a-b07d-9cd5ba136d0a",
        "part": "whole"
       },
       "id": "497be850-03d1-4b64-a741-14f8e6623c3d"
      }
     }
    }
   },
   "themes": {}
  }
 },
 "nbformat": 4,
 "nbformat_minor": 1
}
